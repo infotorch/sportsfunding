{
 "cells": [
  {
   "cell_type": "code",
   "execution_count": 86,
   "metadata": {},
   "outputs": [],
   "source": [
    "import os\n",
    "import io\n",
    "import sys\n",
    "import pandas as pd\n",
    "import numpy as np\n",
    "import requests\n",
    "import requests_cache\n",
    "import pandas as pd\n",
    "\n",
    "ELECTION_2016_CANDIDATES_URI = \"https://results.aec.gov.au/20499/Website/Downloads/HouseMembersElectedDownload-20499.csv\"\n",
    "ELECTION_2016_RESULTSTPP_URI = \"https://results.aec.gov.au/20499/Website/Downloads/HouseTcpByCandidateByVoteTypeDownload-20499.csv\""
   ]
  },
  {
   "cell_type": "code",
   "execution_count": 103,
   "metadata": {},
   "outputs": [
    {
     "data": {
      "text/html": [
       "<div>\n",
       "<style scoped>\n",
       "    .dataframe tbody tr th:only-of-type {\n",
       "        vertical-align: middle;\n",
       "    }\n",
       "\n",
       "    .dataframe tbody tr th {\n",
       "        vertical-align: top;\n",
       "    }\n",
       "\n",
       "    .dataframe thead th {\n",
       "        text-align: right;\n",
       "    }\n",
       "</style>\n",
       "<table border=\"1\" class=\"dataframe\">\n",
       "  <thead>\n",
       "    <tr style=\"text-align: right;\">\n",
       "      <th></th>\n",
       "      <th>electorate</th>\n",
       "      <th>candidate</th>\n",
       "      <th>state</th>\n",
       "      <th>party</th>\n",
       "      <th>margin_votes</th>\n",
       "      <th>margin</th>\n",
       "      <th>Swing</th>\n",
       "      <th>amount</th>\n",
       "      <th>grants</th>\n",
       "    </tr>\n",
       "  </thead>\n",
       "  <tbody>\n",
       "    <tr>\n",
       "      <th>0</th>\n",
       "      <td>Canberra</td>\n",
       "      <td>Gai BRODTMANN</td>\n",
       "      <td>ACT</td>\n",
       "      <td>ALP</td>\n",
       "      <td>21774</td>\n",
       "      <td>16.92</td>\n",
       "      <td>0.95</td>\n",
       "      <td>584464</td>\n",
       "      <td>7</td>\n",
       "    </tr>\n",
       "    <tr>\n",
       "      <th>1</th>\n",
       "      <td>Fenner</td>\n",
       "      <td>Andrew Keith LEIGH</td>\n",
       "      <td>ACT</td>\n",
       "      <td>ALP</td>\n",
       "      <td>34462</td>\n",
       "      <td>27.79</td>\n",
       "      <td>1.40</td>\n",
       "      <td>741981</td>\n",
       "      <td>4</td>\n",
       "    </tr>\n",
       "    <tr>\n",
       "      <th>2</th>\n",
       "      <td>Banks</td>\n",
       "      <td>David COLEMAN</td>\n",
       "      <td>NSW</td>\n",
       "      <td>LP</td>\n",
       "      <td>2588</td>\n",
       "      <td>2.88</td>\n",
       "      <td>-1.36</td>\n",
       "      <td>860000</td>\n",
       "      <td>2</td>\n",
       "    </tr>\n",
       "    <tr>\n",
       "      <th>3</th>\n",
       "      <td>Barton</td>\n",
       "      <td>Linda BURNEY</td>\n",
       "      <td>NSW</td>\n",
       "      <td>ALP</td>\n",
       "      <td>14560</td>\n",
       "      <td>16.60</td>\n",
       "      <td>3.91</td>\n",
       "      <td>5245</td>\n",
       "      <td>1</td>\n",
       "    </tr>\n",
       "    <tr>\n",
       "      <th>4</th>\n",
       "      <td>Bennelong</td>\n",
       "      <td>John ALEXANDER</td>\n",
       "      <td>NSW</td>\n",
       "      <td>LP</td>\n",
       "      <td>17923</td>\n",
       "      <td>19.43</td>\n",
       "      <td>1.95</td>\n",
       "      <td>50000</td>\n",
       "      <td>1</td>\n",
       "    </tr>\n",
       "    <tr>\n",
       "      <th>...</th>\n",
       "      <td>...</td>\n",
       "      <td>...</td>\n",
       "      <td>...</td>\n",
       "      <td>...</td>\n",
       "      <td>...</td>\n",
       "      <td>...</td>\n",
       "      <td>...</td>\n",
       "      <td>...</td>\n",
       "      <td>...</td>\n",
       "    </tr>\n",
       "    <tr>\n",
       "      <th>145</th>\n",
       "      <td>Flynn</td>\n",
       "      <td>Ken O'DOWD</td>\n",
       "      <td>QLD</td>\n",
       "      <td>LNP</td>\n",
       "      <td>1814</td>\n",
       "      <td>2.08</td>\n",
       "      <td>-5.49</td>\n",
       "      <td>927924</td>\n",
       "      <td>5</td>\n",
       "    </tr>\n",
       "    <tr>\n",
       "      <th>146</th>\n",
       "      <td>Durack</td>\n",
       "      <td>Melissa PRICE</td>\n",
       "      <td>WA</td>\n",
       "      <td>LP</td>\n",
       "      <td>16957</td>\n",
       "      <td>22.11</td>\n",
       "      <td>-3.98</td>\n",
       "      <td>816642</td>\n",
       "      <td>14</td>\n",
       "    </tr>\n",
       "    <tr>\n",
       "      <th>147</th>\n",
       "      <td>McMahon</td>\n",
       "      <td>Chris BOWEN</td>\n",
       "      <td>NSW</td>\n",
       "      <td>ALP</td>\n",
       "      <td>20846</td>\n",
       "      <td>24.23</td>\n",
       "      <td>7.48</td>\n",
       "      <td>223575</td>\n",
       "      <td>3</td>\n",
       "    </tr>\n",
       "    <tr>\n",
       "      <th>148</th>\n",
       "      <td>Wright</td>\n",
       "      <td>Scott BUCHHOLZ</td>\n",
       "      <td>QLD</td>\n",
       "      <td>LNP</td>\n",
       "      <td>16984</td>\n",
       "      <td>19.23</td>\n",
       "      <td>-2.22</td>\n",
       "      <td>866533</td>\n",
       "      <td>6</td>\n",
       "    </tr>\n",
       "    <tr>\n",
       "      <th>149</th>\n",
       "      <td>Burt</td>\n",
       "      <td>Matt KEOGH</td>\n",
       "      <td>WA</td>\n",
       "      <td>ALP</td>\n",
       "      <td>11996</td>\n",
       "      <td>14.22</td>\n",
       "      <td>13.20</td>\n",
       "      <td>0</td>\n",
       "      <td>0</td>\n",
       "    </tr>\n",
       "  </tbody>\n",
       "</table>\n",
       "<p>150 rows × 9 columns</p>\n",
       "</div>"
      ],
      "text/plain": [
       "    electorate           candidate state party  margin_votes  margin  Swing  \\\n",
       "0     Canberra       Gai BRODTMANN   ACT   ALP         21774   16.92   0.95   \n",
       "1       Fenner  Andrew Keith LEIGH   ACT   ALP         34462   27.79   1.40   \n",
       "2        Banks       David COLEMAN   NSW    LP          2588    2.88  -1.36   \n",
       "3       Barton        Linda BURNEY   NSW   ALP         14560   16.60   3.91   \n",
       "4    Bennelong      John ALEXANDER   NSW    LP         17923   19.43   1.95   \n",
       "..         ...                 ...   ...   ...           ...     ...    ...   \n",
       "145      Flynn          Ken O'DOWD   QLD   LNP          1814    2.08  -5.49   \n",
       "146     Durack       Melissa PRICE    WA    LP         16957   22.11  -3.98   \n",
       "147    McMahon         Chris BOWEN   NSW   ALP         20846   24.23   7.48   \n",
       "148     Wright      Scott BUCHHOLZ   QLD   LNP         16984   19.23  -2.22   \n",
       "149       Burt          Matt KEOGH    WA   ALP         11996   14.22  13.20   \n",
       "\n",
       "     amount  grants  \n",
       "0    584464       7  \n",
       "1    741981       4  \n",
       "2    860000       2  \n",
       "3      5245       1  \n",
       "4     50000       1  \n",
       "..      ...     ...  \n",
       "145  927924       5  \n",
       "146  816642      14  \n",
       "147  223575       3  \n",
       "148  866533       6  \n",
       "149       0       0  \n",
       "\n",
       "[150 rows x 9 columns]"
      ]
     },
     "execution_count": 103,
     "metadata": {},
     "output_type": "execute_result"
    }
   ],
   "source": [
    "requests_cache.install_cache(\".cache\")\n",
    "\n",
    "req_election2016_candidates = requests.get(ELECTION_2016_CANDIDATES_URI).text.split(\"\\r\\n\", 1)[1] \n",
    "req_election2016_results = requests.get(ELECTION_2016_RESULTSTPP_URI).text.split(\"\\r\\n\", 1)[1] \n",
    "\n",
    "election2016_candidates = pd.read_csv(io.StringIO(req_election2016_candidates))\n",
    "election2016 = pd.read_csv(io.StringIO(req_election2016_results))\n",
    "\n",
    "election2016.groupby([\"DivisionID\"])[\"TotalVotes\"].sum()\n",
    "# election2016\n",
    "e = pd.merge(election2016.groupby([\"DivisionID\"])[\"TotalVotes\"].sum(), election2016.loc[election2016[\"Elected\"] == \"Y\"], left_on=\"DivisionID\", right_on=\"DivisionID\")\n",
    "\n",
    "e[\"margin_votes\"] = e[\"TotalVotes_y\"] - (e[\"TotalVotes_x\"] - e[\"TotalVotes_y\"]) \n",
    "e[\"margin\"] =  round(e[\"margin_votes\"] / e[\"TotalVotes_x\"] * 100, 2)\n",
    "e[\"candidate\"] = e[\"GivenNm\"] + \" \" + e[\"Surname\"]\n",
    "e[\"electorate\"] = e[\"DivisionNm\"]\n",
    "e[\"state\"] = e[\"StateAb\"]\n",
    "e[\"party\"] = e[\"PartyAb\"]\n",
    "\n",
    "election2016 = e[[\n",
    "    \"electorate\",\n",
    "    \"candidate\",\n",
    "    \"state\",\n",
    "    \"party\",\n",
    "    \"margin_votes\",\n",
    "    \"margin\",\n",
    "    \"Swing\"\n",
    "]]\n",
    "\n",
    "grants = pd.read_csv(\"data/grants_geocoded.csv\")\n",
    "\n",
    "grants = pd.merge(grants, election2016, how=\"left\", on=\"electorate\")\n",
    "grants_seat = pd.merge(election2016, grants.groupby([\"electorate\"])[\"name\"].count(), how=\"left\", on=\"electorate\")\n",
    "grants_seat = pd.merge(grants_seat, grants.groupby([\"electorate\"])[\"amount\"].sum(), how=\"left\", on=\"electorate\")\n",
    "\n",
    "grants_seat = grants_seat.fillna(0)\n",
    "\n",
    "grants_seat[\"grants\"] = grants_seat[\"name\"].apply(int) #.apply(lambda x: int(x) if x else 0)\n",
    "grants_seat[\"amount\"] = grants_seat[\"amount\"].apply(int) #.apply(lambda x: int(x) if x else 0)\n",
    "\n",
    "grants_seat.drop([\"name\"], inplace=True, axis=\"columns\")\n",
    "\n",
    "\n",
    "# grants_seat\n",
    "\n",
    "# grants_seat.to_json(\"src/data/grants_seat.json\", orient=\"table\", index=False)\n"
   ]
  },
  {
   "cell_type": "code",
   "execution_count": 180,
   "metadata": {},
   "outputs": [
    {
     "data": {
      "application/vnd.plotly.v1+json": {
       "config": {
        "plotlyServerURL": "https://plot.ly"
       },
       "data": [
        {
         "marker": {
          "color": "blue"
         },
         "mode": "markers",
         "type": "scatter",
         "x": [
          2.88,
          19.43,
          32.89,
          42.07,
          23.61,
          30.79,
          9.11,
          41.05,
          1.46,
          18.65,
          20.36,
          23.26,
          31.47,
          35.63,
          17.04,
          27.22,
          4.61,
          30.2,
          9.37,
          2.29,
          23.11,
          35.5,
          14.14,
          11.85,
          1.26,
          6.68,
          22.09,
          21.78,
          18.12,
          1.27,
          30.61,
          16.85,
          7.91,
          31.72,
          23.27,
          29.88,
          3.3,
          18.18,
          16.29,
          9.48,
          7,
          3.9,
          11.79,
          17.17,
          12.12,
          2.48,
          6.26,
          11.37,
          2.86,
          15.55,
          36.87,
          25.35,
          15.98,
          26.68,
          2.92,
          42.65,
          12.05,
          21.12,
          10.27,
          17.92,
          13.59,
          41.39,
          25.12,
          22.03,
          30.08,
          7.25,
          12.24,
          7.18,
          22.13,
          32.87,
          3.2,
          4.11,
          6.78,
          2.08,
          22.11,
          19.23
         ],
         "y": [
          860000,
          50000,
          684000,
          2400,
          951596,
          320503,
          361951,
          407475,
          1004746,
          261599,
          645437,
          500000,
          523372,
          0,
          363695,
          75000,
          1360796,
          431412,
          926142,
          785000,
          745200,
          120000,
          811499,
          1150395,
          148996,
          2004632,
          0,
          611088,
          803382,
          1009618,
          255800,
          454286,
          1019500,
          216069,
          354297,
          431384,
          694797,
          887400,
          887090,
          987661,
          1225143,
          62310,
          1354011,
          940000,
          839000,
          323648,
          1218000,
          1143877,
          887333,
          806058,
          1108590,
          716525,
          114850,
          695020,
          831095,
          1384393,
          1213112,
          323750,
          1114016,
          751611,
          945158,
          542140,
          471918,
          873859,
          955942,
          426865,
          666585,
          782530,
          1275859,
          308990,
          426712,
          1135177,
          300625,
          927924,
          816642,
          866533
         ]
        },
        {
         "marker": {
          "color": "red"
         },
         "mode": "markers",
         "type": "scatter",
         "x": [
          16.92,
          27.79,
          16.6,
          38.97,
          38.37,
          26.65,
          9.63,
          5.86,
          34.97,
          31.64,
          12.62,
          24.92,
          17.14,
          2.23,
          16.67,
          4.39,
          27.67,
          15.33,
          7.91,
          19.87,
          30.63,
          27.45,
          16.39,
          3.2,
          0.04,
          22.24,
          10.64,
          8.05,
          18.16,
          22.59,
          9.31,
          1.16,
          34.09,
          19.31,
          9.94,
          29.73,
          21.95,
          12.18,
          4.4,
          35.55,
          21.44,
          4.61,
          14.63,
          2.06,
          7.48,
          8.16,
          35.74,
          19.99,
          36.47,
          28.33,
          14.96,
          9.66,
          11.47,
          9.35,
          26.88,
          24.61,
          15.69,
          36.97,
          2.76,
          34.55,
          9.76,
          22.87,
          1.36,
          15.04,
          6.66,
          21.48,
          35.15,
          1.58,
          17.76,
          16.84,
          11.99,
          38.9,
          24.23,
          14.22
         ],
         "y": [
          584464,
          741981,
          5245,
          520620,
          180000,
          431199,
          115634,
          589280,
          244098,
          500000,
          371000,
          375510,
          350265,
          949000,
          0,
          720900,
          554326,
          154135,
          659708,
          104624,
          105500,
          554102,
          50000,
          869113,
          369991,
          187900,
          549982,
          271110,
          248462,
          16400,
          1463803,
          708400,
          30000,
          730550,
          1154072,
          504405,
          1309645,
          210900,
          622680,
          740982,
          578190,
          930000,
          969976,
          250000,
          776600,
          290940,
          0,
          659000,
          891401,
          598960,
          732496,
          1020121,
          342057,
          299822,
          72274,
          493400,
          447679,
          678145,
          959508,
          340000,
          549466,
          344950,
          550000,
          420500,
          433602,
          723214,
          0,
          500000,
          1048000,
          675882,
          1533056,
          170149,
          223575,
          0
         ]
        },
        {
         "marker": {
          "color": "darkblue"
         },
         "mode": "lines",
         "type": "scatter",
         "x": [
          2.88,
          19.43,
          32.89,
          42.07,
          23.61,
          30.79,
          9.11,
          41.05,
          1.46,
          18.65,
          20.36,
          23.26,
          31.47,
          35.63,
          17.04,
          27.22,
          4.61,
          30.2,
          9.37,
          2.29,
          23.11,
          35.5,
          14.14,
          11.85,
          1.26,
          6.68,
          22.09,
          21.78,
          18.12,
          1.27,
          30.61,
          16.85,
          7.91,
          31.72,
          23.27,
          29.88,
          3.3,
          18.18,
          16.29,
          9.48,
          7,
          3.9,
          11.79,
          17.17,
          12.12,
          2.48,
          6.26,
          11.37,
          2.86,
          15.55,
          36.87,
          25.35,
          15.98,
          26.68,
          2.92,
          42.65,
          12.05,
          21.12,
          10.27,
          17.92,
          13.59,
          41.39,
          25.12,
          22.03,
          30.08,
          7.25,
          12.24,
          7.18,
          22.13,
          32.87,
          3.2,
          4.11,
          6.78,
          2.08,
          22.11,
          19.23
         ],
         "y": [
          867286.4502911412,
          675006.1268616293,
          518625.8759032468,
          411971.29166862933,
          626442.274780943,
          543023.9834078979,
          794905.3980273431,
          423821.80102803133,
          883784.2182228577,
          684068.2810776426,
          664201.2506809982,
          630508.6260317181,
          535123.6438349632,
          486792.15468289255,
          702773.4968312084,
          584500.7661658047,
          847187.056965881,
          549878.6898020618,
          791884.6799553386,
          874141.1566853051,
          632251.3479963361,
          488302.5137188948,
          736466.1214804885,
          763071.6768069889,
          886107.8475090149,
          823137.4938541536,
          644101.857355738,
          647703.4827492817,
          690225.8986859592,
          885991.6660447071,
          545115.2497654394,
          704980.9446530577,
          808847.1737442865,
          532219.1072272668,
          630392.4445674103,
          553596.4966599133,
          862406.828790211,
          689528.8099001121,
          711487.106654298,
          790606.6838479522,
          819419.686996302,
          855435.9409317393,
          763768.7655928361,
          701263.1377952062,
          759934.7772706766,
          871933.7088634557,
          828017.1153550838,
          768648.3870937662,
          867518.8132197569,
          720084.5350130799,
          472385.6531087177,
          606226.6999913749,
          715088.7320478418,
          590774.5652384292,
          866821.7244339098,
          405232.7667387734,
          760748.0475208316,
          655371.4593936006,
          781428.3481676311,
          692549.5279721165,
          742856.1020174208,
          419871.631241564,
          608898.8736704558,
          644798.9461415851,
          551272.8673737561,
          816515.1503886054,
          758540.5996989822,
          817328.4206387604,
          643637.1314985065,
          518858.2388318626,
          863568.6434332896,
          852996.1301812741,
          821975.679211075,
          876580.9674357702,
          643869.4944271223,
          677329.7561477865
         ]
        },
        {
         "marker": {
          "color": "darkred"
         },
         "mode": "lines",
         "type": "scatter",
         "x": [
          16.92,
          27.79,
          16.6,
          38.97,
          38.37,
          26.65,
          9.63,
          5.86,
          34.97,
          31.64,
          12.62,
          24.92,
          17.14,
          2.23,
          16.67,
          4.39,
          27.67,
          15.33,
          7.91,
          19.87,
          30.63,
          27.45,
          16.39,
          3.2,
          0.04,
          22.24,
          10.64,
          8.05,
          18.16,
          22.59,
          9.31,
          1.16,
          34.09,
          19.31,
          9.94,
          29.73,
          21.95,
          12.18,
          4.4,
          35.55,
          21.44,
          4.61,
          14.63,
          2.06,
          7.48,
          8.16,
          35.74,
          19.99,
          36.47,
          28.33,
          14.96,
          9.66,
          11.47,
          9.35,
          26.88,
          24.61,
          15.69,
          36.97,
          2.76,
          34.55,
          9.76,
          22.87,
          1.36,
          15.04,
          6.66,
          21.48,
          35.15,
          1.58,
          17.76,
          16.84,
          11.99,
          38.9,
          24.23,
          14.22
         ],
         "y": [
          514973.196329562,
          418105.6873767334,
          517824.8617265174,
          318475.6275706042,
          323822.50018989557,
          428264.74535338697,
          579937.6986539521,
          613533.8816118329,
          354121.44503254665,
          383796.58806961373,
          553292.4501011502,
          443681.56140567706,
          513012.6763691552,
          645882.4609585457,
          517201.0599209334,
          626633.7195290967,
          419175.0619005916,
          529142.4087706842,
          595265.4001625874,
          488684.40595137945,
          392797.1569787542,
          421135.58186099847,
          519696.2671432694,
          637238.3502240246,
          665398.5460189591,
          467564.2591051785,
          570937.1297448117,
          594017.7965514194,
          503922.9929163598,
          464445.25007725856,
          582789.3640509075,
          655417.7171296153,
          361963.524874174,
          493674.8203960514,
          577175.1478006516,
          400817.4659076913,
          470148.58087116934,
          557213.4900219638,
          626544.6049854419,
          348952.801500565,
          474693.422597567,
          624673.1995686899,
          535380.4268265241,
          647397.4082006783,
          599097.3255397462,
          593037.536571216,
          347259.6251711227,
          487615.03142752114,
          340754.2634843182,
          413293.50201937114,
          532439.6468859138,
          579670.3550229876,
          563540.6226214586,
          582432.9058762881,
          426215.1108493253,
          446444.1122589776,
          525934.2851991093,
          336298.5363015754,
          641159.3901448384,
          357864.25586605066,
          578779.209586439,
          461950.0428549226,
          653635.4262565182,
          531726.730536675,
          606404.7181194444,
          474336.9644229476,
          352517.38324675924,
          651674.9062961113,
          507487.5746625541,
          515686.1126788008,
          558906.6663514061,
          319099.4293761882,
          449830.46491786215,
          539034.1231163732
         ]
        }
       ],
       "layout": {
        "template": {
         "data": {
          "bar": [
           {
            "error_x": {
             "color": "#2a3f5f"
            },
            "error_y": {
             "color": "#2a3f5f"
            },
            "marker": {
             "line": {
              "color": "#E5ECF6",
              "width": 0.5
             }
            },
            "type": "bar"
           }
          ],
          "barpolar": [
           {
            "marker": {
             "line": {
              "color": "#E5ECF6",
              "width": 0.5
             }
            },
            "type": "barpolar"
           }
          ],
          "carpet": [
           {
            "aaxis": {
             "endlinecolor": "#2a3f5f",
             "gridcolor": "white",
             "linecolor": "white",
             "minorgridcolor": "white",
             "startlinecolor": "#2a3f5f"
            },
            "baxis": {
             "endlinecolor": "#2a3f5f",
             "gridcolor": "white",
             "linecolor": "white",
             "minorgridcolor": "white",
             "startlinecolor": "#2a3f5f"
            },
            "type": "carpet"
           }
          ],
          "choropleth": [
           {
            "colorbar": {
             "outlinewidth": 0,
             "ticks": ""
            },
            "type": "choropleth"
           }
          ],
          "contour": [
           {
            "colorbar": {
             "outlinewidth": 0,
             "ticks": ""
            },
            "colorscale": [
             [
              0,
              "#0d0887"
             ],
             [
              0.1111111111111111,
              "#46039f"
             ],
             [
              0.2222222222222222,
              "#7201a8"
             ],
             [
              0.3333333333333333,
              "#9c179e"
             ],
             [
              0.4444444444444444,
              "#bd3786"
             ],
             [
              0.5555555555555556,
              "#d8576b"
             ],
             [
              0.6666666666666666,
              "#ed7953"
             ],
             [
              0.7777777777777778,
              "#fb9f3a"
             ],
             [
              0.8888888888888888,
              "#fdca26"
             ],
             [
              1,
              "#f0f921"
             ]
            ],
            "type": "contour"
           }
          ],
          "contourcarpet": [
           {
            "colorbar": {
             "outlinewidth": 0,
             "ticks": ""
            },
            "type": "contourcarpet"
           }
          ],
          "heatmap": [
           {
            "colorbar": {
             "outlinewidth": 0,
             "ticks": ""
            },
            "colorscale": [
             [
              0,
              "#0d0887"
             ],
             [
              0.1111111111111111,
              "#46039f"
             ],
             [
              0.2222222222222222,
              "#7201a8"
             ],
             [
              0.3333333333333333,
              "#9c179e"
             ],
             [
              0.4444444444444444,
              "#bd3786"
             ],
             [
              0.5555555555555556,
              "#d8576b"
             ],
             [
              0.6666666666666666,
              "#ed7953"
             ],
             [
              0.7777777777777778,
              "#fb9f3a"
             ],
             [
              0.8888888888888888,
              "#fdca26"
             ],
             [
              1,
              "#f0f921"
             ]
            ],
            "type": "heatmap"
           }
          ],
          "heatmapgl": [
           {
            "colorbar": {
             "outlinewidth": 0,
             "ticks": ""
            },
            "colorscale": [
             [
              0,
              "#0d0887"
             ],
             [
              0.1111111111111111,
              "#46039f"
             ],
             [
              0.2222222222222222,
              "#7201a8"
             ],
             [
              0.3333333333333333,
              "#9c179e"
             ],
             [
              0.4444444444444444,
              "#bd3786"
             ],
             [
              0.5555555555555556,
              "#d8576b"
             ],
             [
              0.6666666666666666,
              "#ed7953"
             ],
             [
              0.7777777777777778,
              "#fb9f3a"
             ],
             [
              0.8888888888888888,
              "#fdca26"
             ],
             [
              1,
              "#f0f921"
             ]
            ],
            "type": "heatmapgl"
           }
          ],
          "histogram": [
           {
            "marker": {
             "colorbar": {
              "outlinewidth": 0,
              "ticks": ""
             }
            },
            "type": "histogram"
           }
          ],
          "histogram2d": [
           {
            "colorbar": {
             "outlinewidth": 0,
             "ticks": ""
            },
            "colorscale": [
             [
              0,
              "#0d0887"
             ],
             [
              0.1111111111111111,
              "#46039f"
             ],
             [
              0.2222222222222222,
              "#7201a8"
             ],
             [
              0.3333333333333333,
              "#9c179e"
             ],
             [
              0.4444444444444444,
              "#bd3786"
             ],
             [
              0.5555555555555556,
              "#d8576b"
             ],
             [
              0.6666666666666666,
              "#ed7953"
             ],
             [
              0.7777777777777778,
              "#fb9f3a"
             ],
             [
              0.8888888888888888,
              "#fdca26"
             ],
             [
              1,
              "#f0f921"
             ]
            ],
            "type": "histogram2d"
           }
          ],
          "histogram2dcontour": [
           {
            "colorbar": {
             "outlinewidth": 0,
             "ticks": ""
            },
            "colorscale": [
             [
              0,
              "#0d0887"
             ],
             [
              0.1111111111111111,
              "#46039f"
             ],
             [
              0.2222222222222222,
              "#7201a8"
             ],
             [
              0.3333333333333333,
              "#9c179e"
             ],
             [
              0.4444444444444444,
              "#bd3786"
             ],
             [
              0.5555555555555556,
              "#d8576b"
             ],
             [
              0.6666666666666666,
              "#ed7953"
             ],
             [
              0.7777777777777778,
              "#fb9f3a"
             ],
             [
              0.8888888888888888,
              "#fdca26"
             ],
             [
              1,
              "#f0f921"
             ]
            ],
            "type": "histogram2dcontour"
           }
          ],
          "mesh3d": [
           {
            "colorbar": {
             "outlinewidth": 0,
             "ticks": ""
            },
            "type": "mesh3d"
           }
          ],
          "parcoords": [
           {
            "line": {
             "colorbar": {
              "outlinewidth": 0,
              "ticks": ""
             }
            },
            "type": "parcoords"
           }
          ],
          "pie": [
           {
            "automargin": true,
            "type": "pie"
           }
          ],
          "scatter": [
           {
            "marker": {
             "colorbar": {
              "outlinewidth": 0,
              "ticks": ""
             }
            },
            "type": "scatter"
           }
          ],
          "scatter3d": [
           {
            "line": {
             "colorbar": {
              "outlinewidth": 0,
              "ticks": ""
             }
            },
            "marker": {
             "colorbar": {
              "outlinewidth": 0,
              "ticks": ""
             }
            },
            "type": "scatter3d"
           }
          ],
          "scattercarpet": [
           {
            "marker": {
             "colorbar": {
              "outlinewidth": 0,
              "ticks": ""
             }
            },
            "type": "scattercarpet"
           }
          ],
          "scattergeo": [
           {
            "marker": {
             "colorbar": {
              "outlinewidth": 0,
              "ticks": ""
             }
            },
            "type": "scattergeo"
           }
          ],
          "scattergl": [
           {
            "marker": {
             "colorbar": {
              "outlinewidth": 0,
              "ticks": ""
             }
            },
            "type": "scattergl"
           }
          ],
          "scattermapbox": [
           {
            "marker": {
             "colorbar": {
              "outlinewidth": 0,
              "ticks": ""
             }
            },
            "type": "scattermapbox"
           }
          ],
          "scatterpolar": [
           {
            "marker": {
             "colorbar": {
              "outlinewidth": 0,
              "ticks": ""
             }
            },
            "type": "scatterpolar"
           }
          ],
          "scatterpolargl": [
           {
            "marker": {
             "colorbar": {
              "outlinewidth": 0,
              "ticks": ""
             }
            },
            "type": "scatterpolargl"
           }
          ],
          "scatterternary": [
           {
            "marker": {
             "colorbar": {
              "outlinewidth": 0,
              "ticks": ""
             }
            },
            "type": "scatterternary"
           }
          ],
          "surface": [
           {
            "colorbar": {
             "outlinewidth": 0,
             "ticks": ""
            },
            "colorscale": [
             [
              0,
              "#0d0887"
             ],
             [
              0.1111111111111111,
              "#46039f"
             ],
             [
              0.2222222222222222,
              "#7201a8"
             ],
             [
              0.3333333333333333,
              "#9c179e"
             ],
             [
              0.4444444444444444,
              "#bd3786"
             ],
             [
              0.5555555555555556,
              "#d8576b"
             ],
             [
              0.6666666666666666,
              "#ed7953"
             ],
             [
              0.7777777777777778,
              "#fb9f3a"
             ],
             [
              0.8888888888888888,
              "#fdca26"
             ],
             [
              1,
              "#f0f921"
             ]
            ],
            "type": "surface"
           }
          ],
          "table": [
           {
            "cells": {
             "fill": {
              "color": "#EBF0F8"
             },
             "line": {
              "color": "white"
             }
            },
            "header": {
             "fill": {
              "color": "#C8D4E3"
             },
             "line": {
              "color": "white"
             }
            },
            "type": "table"
           }
          ]
         },
         "layout": {
          "annotationdefaults": {
           "arrowcolor": "#2a3f5f",
           "arrowhead": 0,
           "arrowwidth": 1
          },
          "coloraxis": {
           "colorbar": {
            "outlinewidth": 0,
            "ticks": ""
           }
          },
          "colorscale": {
           "diverging": [
            [
             0,
             "#8e0152"
            ],
            [
             0.1,
             "#c51b7d"
            ],
            [
             0.2,
             "#de77ae"
            ],
            [
             0.3,
             "#f1b6da"
            ],
            [
             0.4,
             "#fde0ef"
            ],
            [
             0.5,
             "#f7f7f7"
            ],
            [
             0.6,
             "#e6f5d0"
            ],
            [
             0.7,
             "#b8e186"
            ],
            [
             0.8,
             "#7fbc41"
            ],
            [
             0.9,
             "#4d9221"
            ],
            [
             1,
             "#276419"
            ]
           ],
           "sequential": [
            [
             0,
             "#0d0887"
            ],
            [
             0.1111111111111111,
             "#46039f"
            ],
            [
             0.2222222222222222,
             "#7201a8"
            ],
            [
             0.3333333333333333,
             "#9c179e"
            ],
            [
             0.4444444444444444,
             "#bd3786"
            ],
            [
             0.5555555555555556,
             "#d8576b"
            ],
            [
             0.6666666666666666,
             "#ed7953"
            ],
            [
             0.7777777777777778,
             "#fb9f3a"
            ],
            [
             0.8888888888888888,
             "#fdca26"
            ],
            [
             1,
             "#f0f921"
            ]
           ],
           "sequentialminus": [
            [
             0,
             "#0d0887"
            ],
            [
             0.1111111111111111,
             "#46039f"
            ],
            [
             0.2222222222222222,
             "#7201a8"
            ],
            [
             0.3333333333333333,
             "#9c179e"
            ],
            [
             0.4444444444444444,
             "#bd3786"
            ],
            [
             0.5555555555555556,
             "#d8576b"
            ],
            [
             0.6666666666666666,
             "#ed7953"
            ],
            [
             0.7777777777777778,
             "#fb9f3a"
            ],
            [
             0.8888888888888888,
             "#fdca26"
            ],
            [
             1,
             "#f0f921"
            ]
           ]
          },
          "colorway": [
           "#636efa",
           "#EF553B",
           "#00cc96",
           "#ab63fa",
           "#FFA15A",
           "#19d3f3",
           "#FF6692",
           "#B6E880",
           "#FF97FF",
           "#FECB52"
          ],
          "font": {
           "color": "#2a3f5f"
          },
          "geo": {
           "bgcolor": "white",
           "lakecolor": "white",
           "landcolor": "#E5ECF6",
           "showlakes": true,
           "showland": true,
           "subunitcolor": "white"
          },
          "hoverlabel": {
           "align": "left"
          },
          "hovermode": "closest",
          "mapbox": {
           "style": "light"
          },
          "paper_bgcolor": "white",
          "plot_bgcolor": "#E5ECF6",
          "polar": {
           "angularaxis": {
            "gridcolor": "white",
            "linecolor": "white",
            "ticks": ""
           },
           "bgcolor": "#E5ECF6",
           "radialaxis": {
            "gridcolor": "white",
            "linecolor": "white",
            "ticks": ""
           }
          },
          "scene": {
           "xaxis": {
            "backgroundcolor": "#E5ECF6",
            "gridcolor": "white",
            "gridwidth": 2,
            "linecolor": "white",
            "showbackground": true,
            "ticks": "",
            "zerolinecolor": "white"
           },
           "yaxis": {
            "backgroundcolor": "#E5ECF6",
            "gridcolor": "white",
            "gridwidth": 2,
            "linecolor": "white",
            "showbackground": true,
            "ticks": "",
            "zerolinecolor": "white"
           },
           "zaxis": {
            "backgroundcolor": "#E5ECF6",
            "gridcolor": "white",
            "gridwidth": 2,
            "linecolor": "white",
            "showbackground": true,
            "ticks": "",
            "zerolinecolor": "white"
           }
          },
          "shapedefaults": {
           "line": {
            "color": "#2a3f5f"
           }
          },
          "ternary": {
           "aaxis": {
            "gridcolor": "white",
            "linecolor": "white",
            "ticks": ""
           },
           "baxis": {
            "gridcolor": "white",
            "linecolor": "white",
            "ticks": ""
           },
           "bgcolor": "#E5ECF6",
           "caxis": {
            "gridcolor": "white",
            "linecolor": "white",
            "ticks": ""
           }
          },
          "title": {
           "x": 0.05
          },
          "xaxis": {
           "automargin": true,
           "gridcolor": "white",
           "linecolor": "white",
           "ticks": "",
           "title": {
            "standoff": 15
           },
           "zerolinecolor": "white",
           "zerolinewidth": 2
          },
          "yaxis": {
           "automargin": true,
           "gridcolor": "white",
           "linecolor": "white",
           "ticks": "",
           "title": {
            "standoff": 15
           },
           "zerolinecolor": "white",
           "zerolinewidth": 2
          }
         }
        }
       }
      },
      "text/html": [
       "<div>\n",
       "        \n",
       "        \n",
       "            <div id=\"69556de2-e97c-400c-a929-9ded4892417b\" class=\"plotly-graph-div\" style=\"height:525px; width:100%;\"></div>\n",
       "            <script type=\"text/javascript\">\n",
       "                require([\"plotly\"], function(Plotly) {\n",
       "                    window.PLOTLYENV=window.PLOTLYENV || {};\n",
       "                    \n",
       "                if (document.getElementById(\"69556de2-e97c-400c-a929-9ded4892417b\")) {\n",
       "                    Plotly.newPlot(\n",
       "                        '69556de2-e97c-400c-a929-9ded4892417b',\n",
       "                        [{\"marker\": {\"color\": \"blue\"}, \"mode\": \"markers\", \"type\": \"scatter\", \"x\": [2.88, 19.43, 32.89, 42.07, 23.61, 30.79, 9.11, 41.05, 1.46, 18.65, 20.36, 23.26, 31.47, 35.63, 17.04, 27.22, 4.61, 30.2, 9.37, 2.29, 23.11, 35.5, 14.14, 11.85, 1.26, 6.68, 22.09, 21.78, 18.12, 1.27, 30.61, 16.85, 7.91, 31.72, 23.27, 29.88, 3.3, 18.18, 16.29, 9.48, 7.0, 3.9, 11.79, 17.17, 12.12, 2.48, 6.26, 11.37, 2.86, 15.55, 36.87, 25.35, 15.98, 26.68, 2.92, 42.65, 12.05, 21.12, 10.27, 17.92, 13.59, 41.39, 25.12, 22.03, 30.08, 7.25, 12.24, 7.18, 22.13, 32.87, 3.2, 4.11, 6.78, 2.08, 22.11, 19.23], \"y\": [860000, 50000, 684000, 2400, 951596, 320503, 361951, 407475, 1004746, 261599, 645437, 500000, 523372, 0, 363695, 75000, 1360796, 431412, 926142, 785000, 745200, 120000, 811499, 1150395, 148996, 2004632, 0, 611088, 803382, 1009618, 255800, 454286, 1019500, 216069, 354297, 431384, 694797, 887400, 887090, 987661, 1225143, 62310, 1354011, 940000, 839000, 323648, 1218000, 1143877, 887333, 806058, 1108590, 716525, 114850, 695020, 831095, 1384393, 1213112, 323750, 1114016, 751611, 945158, 542140, 471918, 873859, 955942, 426865, 666585, 782530, 1275859, 308990, 426712, 1135177, 300625, 927924, 816642, 866533]}, {\"marker\": {\"color\": \"red\"}, \"mode\": \"markers\", \"type\": \"scatter\", \"x\": [16.92, 27.79, 16.6, 38.97, 38.37, 26.65, 9.63, 5.86, 34.97, 31.64, 12.62, 24.92, 17.14, 2.23, 16.67, 4.39, 27.67, 15.33, 7.91, 19.87, 30.63, 27.45, 16.39, 3.2, 0.04, 22.24, 10.64, 8.05, 18.16, 22.59, 9.31, 1.16, 34.09, 19.31, 9.94, 29.73, 21.95, 12.18, 4.4, 35.55, 21.44, 4.61, 14.63, 2.06, 7.48, 8.16, 35.74, 19.99, 36.47, 28.33, 14.96, 9.66, 11.47, 9.35, 26.88, 24.61, 15.69, 36.97, 2.76, 34.55, 9.76, 22.87, 1.36, 15.04, 6.66, 21.48, 35.15, 1.58, 17.76, 16.84, 11.99, 38.9, 24.23, 14.22], \"y\": [584464, 741981, 5245, 520620, 180000, 431199, 115634, 589280, 244098, 500000, 371000, 375510, 350265, 949000, 0, 720900, 554326, 154135, 659708, 104624, 105500, 554102, 50000, 869113, 369991, 187900, 549982, 271110, 248462, 16400, 1463803, 708400, 30000, 730550, 1154072, 504405, 1309645, 210900, 622680, 740982, 578190, 930000, 969976, 250000, 776600, 290940, 0, 659000, 891401, 598960, 732496, 1020121, 342057, 299822, 72274, 493400, 447679, 678145, 959508, 340000, 549466, 344950, 550000, 420500, 433602, 723214, 0, 500000, 1048000, 675882, 1533056, 170149, 223575, 0]}, {\"marker\": {\"color\": \"darkblue\"}, \"mode\": \"lines\", \"type\": \"scatter\", \"x\": [2.88, 19.43, 32.89, 42.07, 23.61, 30.79, 9.11, 41.05, 1.46, 18.65, 20.36, 23.26, 31.47, 35.63, 17.04, 27.22, 4.61, 30.2, 9.37, 2.29, 23.11, 35.5, 14.14, 11.85, 1.26, 6.68, 22.09, 21.78, 18.12, 1.27, 30.61, 16.85, 7.91, 31.72, 23.27, 29.88, 3.3, 18.18, 16.29, 9.48, 7.0, 3.9, 11.79, 17.17, 12.12, 2.48, 6.26, 11.37, 2.86, 15.55, 36.87, 25.35, 15.98, 26.68, 2.92, 42.65, 12.05, 21.12, 10.27, 17.92, 13.59, 41.39, 25.12, 22.03, 30.08, 7.25, 12.24, 7.18, 22.13, 32.87, 3.2, 4.11, 6.78, 2.08, 22.11, 19.23], \"y\": [867286.4502911412, 675006.1268616293, 518625.8759032468, 411971.29166862933, 626442.274780943, 543023.9834078979, 794905.3980273431, 423821.80102803133, 883784.2182228577, 684068.2810776426, 664201.2506809982, 630508.6260317181, 535123.6438349632, 486792.15468289255, 702773.4968312084, 584500.7661658047, 847187.056965881, 549878.6898020618, 791884.6799553386, 874141.1566853051, 632251.3479963361, 488302.5137188948, 736466.1214804885, 763071.6768069889, 886107.8475090149, 823137.4938541536, 644101.857355738, 647703.4827492817, 690225.8986859592, 885991.6660447071, 545115.2497654394, 704980.9446530577, 808847.1737442865, 532219.1072272668, 630392.4445674103, 553596.4966599133, 862406.828790211, 689528.8099001121, 711487.106654298, 790606.6838479522, 819419.686996302, 855435.9409317393, 763768.7655928361, 701263.1377952062, 759934.7772706766, 871933.7088634557, 828017.1153550838, 768648.3870937662, 867518.8132197569, 720084.5350130799, 472385.6531087177, 606226.6999913749, 715088.7320478418, 590774.5652384292, 866821.7244339098, 405232.7667387734, 760748.0475208316, 655371.4593936006, 781428.3481676311, 692549.5279721165, 742856.1020174208, 419871.631241564, 608898.8736704558, 644798.9461415851, 551272.8673737561, 816515.1503886054, 758540.5996989822, 817328.4206387604, 643637.1314985065, 518858.2388318626, 863568.6434332896, 852996.1301812741, 821975.679211075, 876580.9674357702, 643869.4944271223, 677329.7561477865]}, {\"marker\": {\"color\": \"darkred\"}, \"mode\": \"lines\", \"type\": \"scatter\", \"x\": [16.92, 27.79, 16.6, 38.97, 38.37, 26.65, 9.63, 5.86, 34.97, 31.64, 12.62, 24.92, 17.14, 2.23, 16.67, 4.39, 27.67, 15.33, 7.91, 19.87, 30.63, 27.45, 16.39, 3.2, 0.04, 22.24, 10.64, 8.05, 18.16, 22.59, 9.31, 1.16, 34.09, 19.31, 9.94, 29.73, 21.95, 12.18, 4.4, 35.55, 21.44, 4.61, 14.63, 2.06, 7.48, 8.16, 35.74, 19.99, 36.47, 28.33, 14.96, 9.66, 11.47, 9.35, 26.88, 24.61, 15.69, 36.97, 2.76, 34.55, 9.76, 22.87, 1.36, 15.04, 6.66, 21.48, 35.15, 1.58, 17.76, 16.84, 11.99, 38.9, 24.23, 14.22], \"y\": [514973.196329562, 418105.6873767334, 517824.8617265174, 318475.6275706042, 323822.50018989557, 428264.74535338697, 579937.6986539521, 613533.8816118329, 354121.44503254665, 383796.58806961373, 553292.4501011502, 443681.56140567706, 513012.6763691552, 645882.4609585457, 517201.0599209334, 626633.7195290967, 419175.0619005916, 529142.4087706842, 595265.4001625874, 488684.40595137945, 392797.1569787542, 421135.58186099847, 519696.2671432694, 637238.3502240246, 665398.5460189591, 467564.2591051785, 570937.1297448117, 594017.7965514194, 503922.9929163598, 464445.25007725856, 582789.3640509075, 655417.7171296153, 361963.524874174, 493674.8203960514, 577175.1478006516, 400817.4659076913, 470148.58087116934, 557213.4900219638, 626544.6049854419, 348952.801500565, 474693.422597567, 624673.1995686899, 535380.4268265241, 647397.4082006783, 599097.3255397462, 593037.536571216, 347259.6251711227, 487615.03142752114, 340754.2634843182, 413293.50201937114, 532439.6468859138, 579670.3550229876, 563540.6226214586, 582432.9058762881, 426215.1108493253, 446444.1122589776, 525934.2851991093, 336298.5363015754, 641159.3901448384, 357864.25586605066, 578779.209586439, 461950.0428549226, 653635.4262565182, 531726.730536675, 606404.7181194444, 474336.9644229476, 352517.38324675924, 651674.9062961113, 507487.5746625541, 515686.1126788008, 558906.6663514061, 319099.4293761882, 449830.46491786215, 539034.1231163732]}],\n",
       "                        {\"template\": {\"data\": {\"bar\": [{\"error_x\": {\"color\": \"#2a3f5f\"}, \"error_y\": {\"color\": \"#2a3f5f\"}, \"marker\": {\"line\": {\"color\": \"#E5ECF6\", \"width\": 0.5}}, \"type\": \"bar\"}], \"barpolar\": [{\"marker\": {\"line\": {\"color\": \"#E5ECF6\", \"width\": 0.5}}, \"type\": \"barpolar\"}], \"carpet\": [{\"aaxis\": {\"endlinecolor\": \"#2a3f5f\", \"gridcolor\": \"white\", \"linecolor\": \"white\", \"minorgridcolor\": \"white\", \"startlinecolor\": \"#2a3f5f\"}, \"baxis\": {\"endlinecolor\": \"#2a3f5f\", \"gridcolor\": \"white\", \"linecolor\": \"white\", \"minorgridcolor\": \"white\", \"startlinecolor\": \"#2a3f5f\"}, \"type\": \"carpet\"}], \"choropleth\": [{\"colorbar\": {\"outlinewidth\": 0, \"ticks\": \"\"}, \"type\": \"choropleth\"}], \"contour\": [{\"colorbar\": {\"outlinewidth\": 0, \"ticks\": \"\"}, \"colorscale\": [[0.0, \"#0d0887\"], [0.1111111111111111, \"#46039f\"], [0.2222222222222222, \"#7201a8\"], [0.3333333333333333, \"#9c179e\"], [0.4444444444444444, \"#bd3786\"], [0.5555555555555556, \"#d8576b\"], [0.6666666666666666, \"#ed7953\"], [0.7777777777777778, \"#fb9f3a\"], [0.8888888888888888, \"#fdca26\"], [1.0, \"#f0f921\"]], \"type\": \"contour\"}], \"contourcarpet\": [{\"colorbar\": {\"outlinewidth\": 0, \"ticks\": \"\"}, \"type\": \"contourcarpet\"}], \"heatmap\": [{\"colorbar\": {\"outlinewidth\": 0, \"ticks\": \"\"}, \"colorscale\": [[0.0, \"#0d0887\"], [0.1111111111111111, \"#46039f\"], [0.2222222222222222, \"#7201a8\"], [0.3333333333333333, \"#9c179e\"], [0.4444444444444444, \"#bd3786\"], [0.5555555555555556, \"#d8576b\"], [0.6666666666666666, \"#ed7953\"], [0.7777777777777778, \"#fb9f3a\"], [0.8888888888888888, \"#fdca26\"], [1.0, \"#f0f921\"]], \"type\": \"heatmap\"}], \"heatmapgl\": [{\"colorbar\": {\"outlinewidth\": 0, \"ticks\": \"\"}, \"colorscale\": [[0.0, \"#0d0887\"], [0.1111111111111111, \"#46039f\"], [0.2222222222222222, \"#7201a8\"], [0.3333333333333333, \"#9c179e\"], [0.4444444444444444, \"#bd3786\"], [0.5555555555555556, \"#d8576b\"], [0.6666666666666666, \"#ed7953\"], [0.7777777777777778, \"#fb9f3a\"], [0.8888888888888888, \"#fdca26\"], [1.0, \"#f0f921\"]], \"type\": \"heatmapgl\"}], \"histogram\": [{\"marker\": {\"colorbar\": {\"outlinewidth\": 0, \"ticks\": \"\"}}, \"type\": \"histogram\"}], \"histogram2d\": [{\"colorbar\": {\"outlinewidth\": 0, \"ticks\": \"\"}, \"colorscale\": [[0.0, \"#0d0887\"], [0.1111111111111111, \"#46039f\"], [0.2222222222222222, \"#7201a8\"], [0.3333333333333333, \"#9c179e\"], [0.4444444444444444, \"#bd3786\"], [0.5555555555555556, \"#d8576b\"], [0.6666666666666666, \"#ed7953\"], [0.7777777777777778, \"#fb9f3a\"], [0.8888888888888888, \"#fdca26\"], [1.0, \"#f0f921\"]], \"type\": \"histogram2d\"}], \"histogram2dcontour\": [{\"colorbar\": {\"outlinewidth\": 0, \"ticks\": \"\"}, \"colorscale\": [[0.0, \"#0d0887\"], [0.1111111111111111, \"#46039f\"], [0.2222222222222222, \"#7201a8\"], [0.3333333333333333, \"#9c179e\"], [0.4444444444444444, \"#bd3786\"], [0.5555555555555556, \"#d8576b\"], [0.6666666666666666, \"#ed7953\"], [0.7777777777777778, \"#fb9f3a\"], [0.8888888888888888, \"#fdca26\"], [1.0, \"#f0f921\"]], \"type\": \"histogram2dcontour\"}], \"mesh3d\": [{\"colorbar\": {\"outlinewidth\": 0, \"ticks\": \"\"}, \"type\": \"mesh3d\"}], \"parcoords\": [{\"line\": {\"colorbar\": {\"outlinewidth\": 0, \"ticks\": \"\"}}, \"type\": \"parcoords\"}], \"pie\": [{\"automargin\": true, \"type\": \"pie\"}], \"scatter\": [{\"marker\": {\"colorbar\": {\"outlinewidth\": 0, \"ticks\": \"\"}}, \"type\": \"scatter\"}], \"scatter3d\": [{\"line\": {\"colorbar\": {\"outlinewidth\": 0, \"ticks\": \"\"}}, \"marker\": {\"colorbar\": {\"outlinewidth\": 0, \"ticks\": \"\"}}, \"type\": \"scatter3d\"}], \"scattercarpet\": [{\"marker\": {\"colorbar\": {\"outlinewidth\": 0, \"ticks\": \"\"}}, \"type\": \"scattercarpet\"}], \"scattergeo\": [{\"marker\": {\"colorbar\": {\"outlinewidth\": 0, \"ticks\": \"\"}}, \"type\": \"scattergeo\"}], \"scattergl\": [{\"marker\": {\"colorbar\": {\"outlinewidth\": 0, \"ticks\": \"\"}}, \"type\": \"scattergl\"}], \"scattermapbox\": [{\"marker\": {\"colorbar\": {\"outlinewidth\": 0, \"ticks\": \"\"}}, \"type\": \"scattermapbox\"}], \"scatterpolar\": [{\"marker\": {\"colorbar\": {\"outlinewidth\": 0, \"ticks\": \"\"}}, \"type\": \"scatterpolar\"}], \"scatterpolargl\": [{\"marker\": {\"colorbar\": {\"outlinewidth\": 0, \"ticks\": \"\"}}, \"type\": \"scatterpolargl\"}], \"scatterternary\": [{\"marker\": {\"colorbar\": {\"outlinewidth\": 0, \"ticks\": \"\"}}, \"type\": \"scatterternary\"}], \"surface\": [{\"colorbar\": {\"outlinewidth\": 0, \"ticks\": \"\"}, \"colorscale\": [[0.0, \"#0d0887\"], [0.1111111111111111, \"#46039f\"], [0.2222222222222222, \"#7201a8\"], [0.3333333333333333, \"#9c179e\"], [0.4444444444444444, \"#bd3786\"], [0.5555555555555556, \"#d8576b\"], [0.6666666666666666, \"#ed7953\"], [0.7777777777777778, \"#fb9f3a\"], [0.8888888888888888, \"#fdca26\"], [1.0, \"#f0f921\"]], \"type\": \"surface\"}], \"table\": [{\"cells\": {\"fill\": {\"color\": \"#EBF0F8\"}, \"line\": {\"color\": \"white\"}}, \"header\": {\"fill\": {\"color\": \"#C8D4E3\"}, \"line\": {\"color\": \"white\"}}, \"type\": \"table\"}]}, \"layout\": {\"annotationdefaults\": {\"arrowcolor\": \"#2a3f5f\", \"arrowhead\": 0, \"arrowwidth\": 1}, \"coloraxis\": {\"colorbar\": {\"outlinewidth\": 0, \"ticks\": \"\"}}, \"colorscale\": {\"diverging\": [[0, \"#8e0152\"], [0.1, \"#c51b7d\"], [0.2, \"#de77ae\"], [0.3, \"#f1b6da\"], [0.4, \"#fde0ef\"], [0.5, \"#f7f7f7\"], [0.6, \"#e6f5d0\"], [0.7, \"#b8e186\"], [0.8, \"#7fbc41\"], [0.9, \"#4d9221\"], [1, \"#276419\"]], \"sequential\": [[0.0, \"#0d0887\"], [0.1111111111111111, \"#46039f\"], [0.2222222222222222, \"#7201a8\"], [0.3333333333333333, \"#9c179e\"], [0.4444444444444444, \"#bd3786\"], [0.5555555555555556, \"#d8576b\"], [0.6666666666666666, \"#ed7953\"], [0.7777777777777778, \"#fb9f3a\"], [0.8888888888888888, \"#fdca26\"], [1.0, \"#f0f921\"]], \"sequentialminus\": [[0.0, \"#0d0887\"], [0.1111111111111111, \"#46039f\"], [0.2222222222222222, \"#7201a8\"], [0.3333333333333333, \"#9c179e\"], [0.4444444444444444, \"#bd3786\"], [0.5555555555555556, \"#d8576b\"], [0.6666666666666666, \"#ed7953\"], [0.7777777777777778, \"#fb9f3a\"], [0.8888888888888888, \"#fdca26\"], [1.0, \"#f0f921\"]]}, \"colorway\": [\"#636efa\", \"#EF553B\", \"#00cc96\", \"#ab63fa\", \"#FFA15A\", \"#19d3f3\", \"#FF6692\", \"#B6E880\", \"#FF97FF\", \"#FECB52\"], \"font\": {\"color\": \"#2a3f5f\"}, \"geo\": {\"bgcolor\": \"white\", \"lakecolor\": \"white\", \"landcolor\": \"#E5ECF6\", \"showlakes\": true, \"showland\": true, \"subunitcolor\": \"white\"}, \"hoverlabel\": {\"align\": \"left\"}, \"hovermode\": \"closest\", \"mapbox\": {\"style\": \"light\"}, \"paper_bgcolor\": \"white\", \"plot_bgcolor\": \"#E5ECF6\", \"polar\": {\"angularaxis\": {\"gridcolor\": \"white\", \"linecolor\": \"white\", \"ticks\": \"\"}, \"bgcolor\": \"#E5ECF6\", \"radialaxis\": {\"gridcolor\": \"white\", \"linecolor\": \"white\", \"ticks\": \"\"}}, \"scene\": {\"xaxis\": {\"backgroundcolor\": \"#E5ECF6\", \"gridcolor\": \"white\", \"gridwidth\": 2, \"linecolor\": \"white\", \"showbackground\": true, \"ticks\": \"\", \"zerolinecolor\": \"white\"}, \"yaxis\": {\"backgroundcolor\": \"#E5ECF6\", \"gridcolor\": \"white\", \"gridwidth\": 2, \"linecolor\": \"white\", \"showbackground\": true, \"ticks\": \"\", \"zerolinecolor\": \"white\"}, \"zaxis\": {\"backgroundcolor\": \"#E5ECF6\", \"gridcolor\": \"white\", \"gridwidth\": 2, \"linecolor\": \"white\", \"showbackground\": true, \"ticks\": \"\", \"zerolinecolor\": \"white\"}}, \"shapedefaults\": {\"line\": {\"color\": \"#2a3f5f\"}}, \"ternary\": {\"aaxis\": {\"gridcolor\": \"white\", \"linecolor\": \"white\", \"ticks\": \"\"}, \"baxis\": {\"gridcolor\": \"white\", \"linecolor\": \"white\", \"ticks\": \"\"}, \"bgcolor\": \"#E5ECF6\", \"caxis\": {\"gridcolor\": \"white\", \"linecolor\": \"white\", \"ticks\": \"\"}}, \"title\": {\"x\": 0.05}, \"xaxis\": {\"automargin\": true, \"gridcolor\": \"white\", \"linecolor\": \"white\", \"ticks\": \"\", \"title\": {\"standoff\": 15}, \"zerolinecolor\": \"white\", \"zerolinewidth\": 2}, \"yaxis\": {\"automargin\": true, \"gridcolor\": \"white\", \"linecolor\": \"white\", \"ticks\": \"\", \"title\": {\"standoff\": 15}, \"zerolinecolor\": \"white\", \"zerolinewidth\": 2}}}},\n",
       "                        {\"responsive\": true}\n",
       "                    ).then(function(){\n",
       "                            \n",
       "var gd = document.getElementById('69556de2-e97c-400c-a929-9ded4892417b');\n",
       "var x = new MutationObserver(function (mutations, observer) {{\n",
       "        var display = window.getComputedStyle(gd).display;\n",
       "        if (!display || display === 'none') {{\n",
       "            console.log([gd, 'removed!']);\n",
       "            Plotly.purge(gd);\n",
       "            observer.disconnect();\n",
       "        }}\n",
       "}});\n",
       "\n",
       "// Listen for the removal of the full notebook cells\n",
       "var notebookContainer = gd.closest('#notebook-container');\n",
       "if (notebookContainer) {{\n",
       "    x.observe(notebookContainer, {childList: true});\n",
       "}}\n",
       "\n",
       "// Listen for the clearing of the current output cell\n",
       "var outputEl = gd.closest('.output');\n",
       "if (outputEl) {{\n",
       "    x.observe(outputEl, {childList: true});\n",
       "}}\n",
       "\n",
       "                        })\n",
       "                };\n",
       "                });\n",
       "            </script>\n",
       "        </div>"
      ]
     },
     "metadata": {},
     "output_type": "display_data"
    }
   ],
   "source": [
    "import plotly.express as px\n",
    "import plotly.graph_objects as go\n",
    "from sklearn.linear_model import LinearRegression\n",
    "\n",
    "grants_seat[\"party_g\"] = grants_seat[\"party\"].apply(lambda x: \"LP\" if x in [\"LP\", \"NP\", \"LNP\"] else x)\n",
    "\n",
    "lnp_reg = LinearRegression()\n",
    "lnp_x = pd.DataFrame(grants_seat.loc[grants_seat[\"party_g\"] == \"LP\"], columns=[\"margin\"])\n",
    "lnp_y = pd.DataFrame(grants_seat.loc[grants_seat[\"party_g\"] == \"LP\"], columns=[\"amount\"])\n",
    "\n",
    "\n",
    "alp_reg = LinearRegression()\n",
    "alp_x = pd.DataFrame(grants_seat.loc[grants_seat[\"party_g\"] != \"LP\"], columns=[\"margin\"])\n",
    "alp_y = pd.DataFrame(grants_seat.loc[grants_seat[\"party_g\"] != \"LP\"], columns=[\"amount\"])\n",
    "# lnp_y \n",
    "# lnp_t = pd.DataFrame(lnp.amount, )\n",
    "\n",
    "lnp_reg.fit(lnp_x, lnp_y[\"amount\"])\n",
    "lnp_y_pred = lnp_reg.predict(lnp_x)\n",
    "\n",
    "alp_reg.fit(alp_x, alp_y[\"amount\"])\n",
    "alp_y_pred = alp_reg.predict(alp_x)\n",
    "\n",
    "\n",
    "# lnp_reg.fit(\n",
    "#     , \n",
    "#     grants_seat.loc[grants_seat[\"party_g\"] == \"LP\"][\"amount\"].values.reshape(-1, 1)\n",
    "# )\n",
    "\n",
    "\n",
    "# fig = px.line(lnp, x=\"margin\", y=\"amount\", title='Life expectancy in Canada')\n",
    "\n",
    "fig = go.Figure()\n",
    "fig.add_trace(\n",
    "    go.Scatter(\n",
    "        x=grants_seat.loc[grants_seat[\"party_g\"] == \"LP\"][\"margin\"], \n",
    "        y=grants_seat.loc[grants_seat[\"party_g\"] == \"LP\"][\"amount\"], \n",
    "        mode=\"markers\",\n",
    "        marker_color=\"blue\"\n",
    "    )\n",
    ")\n",
    "fig.add_trace(\n",
    "    go.Scatter(\n",
    "        x=grants_seat.loc[grants_seat[\"party_g\"] != \"LP\"][\"margin\"], \n",
    "        y=grants_seat.loc[grants_seat[\"party_g\"] != \"LP\"][\"amount\"], \n",
    "        mode=\"markers\",\n",
    "        marker_color=\"red\"\n",
    "    )\n",
    ")\n",
    "fig.add_trace(\n",
    "    go.Scatter(\n",
    "        x=grants_seat.loc[grants_seat[\"party_g\"] == \"LP\"][\"margin\"], \n",
    "        y=lnp_y_pred, \n",
    "        mode=\"lines\",\n",
    "        marker_color=\"darkblue\"\n",
    "    )\n",
    ")\n",
    "\n",
    "fig.add_trace(\n",
    "    go.Scatter(\n",
    "        x=grants_seat.loc[grants_seat[\"party_g\"] != \"LP\"][\"margin\"], \n",
    "        y=alp_y_pred, \n",
    "        mode=\"lines\",\n",
    "        marker_color=\"darkred\"\n",
    "    )\n",
    ")\n",
    "fig.show()\n",
    "\n",
    "# lnp_y_pred\n",
    "# lnp_x\n"
   ]
  },
  {
   "cell_type": "code",
   "execution_count": 181,
   "metadata": {},
   "outputs": [
    {
     "data": {
      "application/vnd.plotly.v1+json": {
       "config": {
        "plotlyServerURL": "https://plot.ly"
       },
       "data": [
        {
         "customdata": [
          [
           "Canberra"
          ],
          [
           "Fenner"
          ],
          [
           "Barton"
          ],
          [
           "Blaxland"
          ],
          [
           "Chifley"
          ],
          [
           "Cunningham"
          ],
          [
           "Dobell"
          ],
          [
           "Eden-Monaro"
          ],
          [
           "Fowler"
          ],
          [
           "Grayndler"
          ],
          [
           "Greenway"
          ],
          [
           "Hunter"
          ],
          [
           "Kingsford Smith"
          ],
          [
           "Lindsay"
          ],
          [
           "Macarthur"
          ],
          [
           "Macquarie"
          ],
          [
           "Newcastle"
          ],
          [
           "Parramatta"
          ],
          [
           "Richmond"
          ],
          [
           "Shortland"
          ],
          [
           "Sydney"
          ],
          [
           "Whitlam"
          ],
          [
           "Werriwa"
          ],
          [
           "Griffith"
          ],
          [
           "Herbert"
          ],
          [
           "Lilley"
          ],
          [
           "Moreton"
          ],
          [
           "Oxley"
          ],
          [
           "Rankin"
          ],
          [
           "Adelaide"
          ],
          [
           "Hindmarsh"
          ],
          [
           "Kingston"
          ],
          [
           "Makin"
          ],
          [
           "Port Adelaide"
          ],
          [
           "Wakefield"
          ],
          [
           "Bass"
          ],
          [
           "Braddon"
          ],
          [
           "Franklin"
          ],
          [
           "Lyons"
          ],
          [
           "Ballarat"
          ],
          [
           "Batman"
          ],
          [
           "Bendigo"
          ],
          [
           "Bruce"
          ],
          [
           "Calwell"
          ],
          [
           "Corio"
          ],
          [
           "Gellibrand"
          ],
          [
           "Holt"
          ],
          [
           "Hotham"
          ],
          [
           "Isaacs"
          ],
          [
           "Jagajaga"
          ],
          [
           "Lalor"
          ],
          [
           "Maribyrnong"
          ],
          [
           "McEwen"
          ],
          [
           "Melbourne Ports"
          ],
          [
           "Scullin"
          ],
          [
           "Wills"
          ],
          [
           "Brand"
          ],
          [
           "Cowan"
          ],
          [
           "Fremantle"
          ],
          [
           "Perth"
          ],
          [
           "Paterson"
          ],
          [
           "Watson"
          ],
          [
           "Longman"
          ],
          [
           "Blair"
          ],
          [
           "Lingiari"
          ],
          [
           "Solomon"
          ],
          [
           "Gorton"
          ],
          [
           "McMahon"
          ],
          [
           "Burt"
          ]
         ],
         "hoverlabel": {
          "namelength": 0
         },
         "hovertemplate": "party_g=ALP<br>margin=%{x}<br>amount=%{y}<br>grants=%{marker.size}<br>electorate=%{customdata[0]}",
         "legendgroup": "ALP",
         "marker": {
          "color": "#636efa",
          "size": [
           7,
           4,
           1,
           2,
           1,
           5,
           1,
           3,
           2,
           1,
           1,
           3,
           3,
           8,
           0,
           6,
           4,
           2,
           5,
           1,
           1,
           6,
           1,
           3,
           1,
           3,
           3,
           2,
           1,
           10,
           6,
           1,
           3,
           6,
           5,
           3,
           4,
           4,
           6,
           7,
           2,
           5,
           2,
           0,
           4,
           6,
           4,
           3,
           10,
           7,
           2,
           4,
           5,
           4,
           2,
           5,
           3,
           2,
           3,
           4,
           5,
           0,
           1,
           5,
           4,
           4,
           1,
           3,
           0
          ],
          "sizemode": "area",
          "sizeref": 0.035,
          "symbol": "circle"
         },
         "mode": "markers",
         "name": "ALP",
         "showlegend": true,
         "type": "scatter",
         "x": [
          16.92,
          27.79,
          16.6,
          38.97,
          38.37,
          26.65,
          9.63,
          5.86,
          34.97,
          31.64,
          12.62,
          24.92,
          17.14,
          2.23,
          16.67,
          4.39,
          27.67,
          15.33,
          7.91,
          19.87,
          30.63,
          27.45,
          16.39,
          3.2,
          0.04,
          10.64,
          8.05,
          18.16,
          22.59,
          9.31,
          1.16,
          34.09,
          19.31,
          29.73,
          21.95,
          12.18,
          4.4,
          21.44,
          4.61,
          14.63,
          2.06,
          7.48,
          8.16,
          35.74,
          19.99,
          36.47,
          28.33,
          14.96,
          11.47,
          9.35,
          26.88,
          24.61,
          15.69,
          2.76,
          34.55,
          9.76,
          22.87,
          1.36,
          15.04,
          6.66,
          21.48,
          35.15,
          1.58,
          17.76,
          16.84,
          11.99,
          38.9,
          24.23,
          14.22
         ],
         "xaxis": "x",
         "y": [
          584464,
          741981,
          5245,
          520620,
          180000,
          431199,
          115634,
          589280,
          244098,
          500000,
          371000,
          375510,
          350265,
          949000,
          0,
          720900,
          554326,
          154135,
          659708,
          104624,
          105500,
          554102,
          50000,
          869113,
          369991,
          549982,
          271110,
          248462,
          16400,
          1463803,
          708400,
          30000,
          730550,
          504405,
          1309645,
          210900,
          622680,
          578190,
          930000,
          969976,
          250000,
          776600,
          290940,
          0,
          659000,
          891401,
          598960,
          732496,
          342057,
          299822,
          72274,
          493400,
          447679,
          959508,
          340000,
          549466,
          344950,
          550000,
          420500,
          433602,
          723214,
          0,
          500000,
          1048000,
          675882,
          1533056,
          170149,
          223575,
          0
         ],
         "yaxis": "y"
        },
        {
         "customdata": [
          [
           "Banks"
          ],
          [
           "Bennelong"
          ],
          [
           "Berowra"
          ],
          [
           "Bradfield"
          ],
          [
           "Calare"
          ],
          [
           "Cook"
          ],
          [
           "Cowper"
          ],
          [
           "Farrer"
          ],
          [
           "Gilmore"
          ],
          [
           "Hughes"
          ],
          [
           "Hume"
          ],
          [
           "Lyne"
          ],
          [
           "Mackellar"
          ],
          [
           "Mitchell"
          ],
          [
           "New England"
          ],
          [
           "North Sydney"
          ],
          [
           "Page"
          ],
          [
           "Parkes"
          ],
          [
           "Reid"
          ],
          [
           "Robertson"
          ],
          [
           "Warringah"
          ],
          [
           "Wentworth"
          ],
          [
           "Bowman"
          ],
          [
           "Brisbane"
          ],
          [
           "Capricornia"
          ],
          [
           "Dawson"
          ],
          [
           "Fadden"
          ],
          [
           "Fairfax"
          ],
          [
           "Fisher"
          ],
          [
           "Forde"
          ],
          [
           "Groom"
          ],
          [
           "Hinkler"
          ],
          [
           "Leichhardt"
          ],
          [
           "Maranoa"
          ],
          [
           "McPherson"
          ],
          [
           "Moncrieff"
          ],
          [
           "Petrie"
          ],
          [
           "Ryan"
          ],
          [
           "Wide Bay"
          ],
          [
           "Barker"
          ],
          [
           "Boothby"
          ],
          [
           "Grey"
          ],
          [
           "Sturt"
          ],
          [
           "Aston"
          ],
          [
           "Casey"
          ],
          [
           "Chisholm"
          ],
          [
           "Corangamite"
          ],
          [
           "Deakin"
          ],
          [
           "Dunkley"
          ],
          [
           "Flinders"
          ],
          [
           "Gippsland"
          ],
          [
           "Goldstein"
          ],
          [
           "Higgins"
          ],
          [
           "Kooyong"
          ],
          [
           "La Trobe"
          ],
          [
           "Mallee"
          ],
          [
           "McMillan"
          ],
          [
           "Menzies"
          ],
          [
           "Murray"
          ],
          [
           "Wannon"
          ],
          [
           "Canning"
          ],
          [
           "Curtin"
          ],
          [
           "Forrest"
          ],
          [
           "Moore"
          ],
          [
           "O'Connor"
          ],
          [
           "Pearce"
          ],
          [
           "Stirling"
          ],
          [
           "Swan"
          ],
          [
           "Tangney"
          ],
          [
           "Riverina"
          ],
          [
           "Dickson"
          ],
          [
           "Hasluck"
          ],
          [
           "Bonner"
          ],
          [
           "Flynn"
          ],
          [
           "Durack"
          ],
          [
           "Wright"
          ]
         ],
         "hoverlabel": {
          "namelength": 0
         },
         "hovertemplate": "party_g=LP<br>margin=%{x}<br>amount=%{y}<br>grants=%{marker.size}<br>electorate=%{customdata[0]}",
         "legendgroup": "LP",
         "marker": {
          "color": "#EF553B",
          "size": [
           2,
           1,
           2,
           1,
           8,
           4,
           4,
           5,
           8,
           3,
           5,
           1,
           4,
           0,
           6,
           1,
           7,
           3,
           3,
           3,
           4,
           3,
           4,
           3,
           3,
           8,
           0,
           6,
           5,
           4,
           2,
           4,
           4,
           3,
           3,
           4,
           2,
           2,
           7,
           8,
           3,
           2,
           4,
           3,
           5,
           2,
           5,
           4,
           5,
           8,
           3,
           3,
           3,
           6,
           4,
           8,
           13,
           5,
           5,
           5,
           6,
           5,
           9,
           5,
           7,
           2,
           6,
           4,
           8,
           5,
           3,
           10,
           3,
           5,
           14,
           6
          ],
          "sizemode": "area",
          "sizeref": 0.035,
          "symbol": "circle"
         },
         "mode": "markers",
         "name": "LP",
         "showlegend": true,
         "type": "scatter",
         "x": [
          2.88,
          19.43,
          32.89,
          42.07,
          23.61,
          30.79,
          9.11,
          41.05,
          1.46,
          18.65,
          20.36,
          23.26,
          31.47,
          35.63,
          17.04,
          27.22,
          4.61,
          30.2,
          9.37,
          2.29,
          23.11,
          35.5,
          14.14,
          11.85,
          1.26,
          6.68,
          22.09,
          21.78,
          18.12,
          1.27,
          30.61,
          16.85,
          7.91,
          31.72,
          23.27,
          29.88,
          3.3,
          18.18,
          16.29,
          9.48,
          7,
          3.9,
          11.79,
          17.17,
          12.12,
          2.48,
          6.26,
          11.37,
          2.86,
          15.55,
          36.87,
          25.35,
          15.98,
          26.68,
          2.92,
          42.65,
          12.05,
          21.12,
          10.27,
          17.92,
          13.59,
          41.39,
          25.12,
          22.03,
          30.08,
          7.25,
          12.24,
          7.18,
          22.13,
          32.87,
          3.2,
          4.11,
          6.78,
          2.08,
          22.11,
          19.23
         ],
         "xaxis": "x",
         "y": [
          860000,
          50000,
          684000,
          2400,
          951596,
          320503,
          361951,
          407475,
          1004746,
          261599,
          645437,
          500000,
          523372,
          0,
          363695,
          75000,
          1360796,
          431412,
          926142,
          785000,
          745200,
          120000,
          811499,
          1150395,
          148996,
          2004632,
          0,
          611088,
          803382,
          1009618,
          255800,
          454286,
          1019500,
          216069,
          354297,
          431384,
          694797,
          887400,
          887090,
          987661,
          1225143,
          62310,
          1354011,
          940000,
          839000,
          323648,
          1218000,
          1143877,
          887333,
          806058,
          1108590,
          716525,
          114850,
          695020,
          831095,
          1384393,
          1213112,
          323750,
          1114016,
          751611,
          945158,
          542140,
          471918,
          873859,
          955942,
          426865,
          666585,
          782530,
          1275859,
          308990,
          426712,
          1135177,
          300625,
          927924,
          816642,
          866533
         ],
         "yaxis": "y"
        },
        {
         "customdata": [
          [
           "Kennedy"
          ]
         ],
         "hoverlabel": {
          "namelength": 0
         },
         "hovertemplate": "party_g=KAP<br>margin=%{x}<br>amount=%{y}<br>grants=%{marker.size}<br>electorate=%{customdata[0]}",
         "legendgroup": "KAP",
         "marker": {
          "color": "#00cc96",
          "size": [
           2
          ],
          "sizemode": "area",
          "sizeref": 0.035,
          "symbol": "circle"
         },
         "mode": "markers",
         "name": "KAP",
         "showlegend": true,
         "type": "scatter",
         "x": [
          22.24
         ],
         "xaxis": "x",
         "y": [
          187900
         ],
         "yaxis": "y"
        },
        {
         "customdata": [
          [
           "Mayo"
          ]
         ],
         "hoverlabel": {
          "namelength": 0
         },
         "hovertemplate": "party_g=XEN<br>margin=%{x}<br>amount=%{y}<br>grants=%{marker.size}<br>electorate=%{customdata[0]}",
         "legendgroup": "XEN",
         "marker": {
          "color": "#ab63fa",
          "size": [
           5
          ],
          "sizemode": "area",
          "sizeref": 0.035,
          "symbol": "circle"
         },
         "mode": "markers",
         "name": "XEN",
         "showlegend": true,
         "type": "scatter",
         "x": [
          9.94
         ],
         "xaxis": "x",
         "y": [
          1154072
         ],
         "yaxis": "y"
        },
        {
         "customdata": [
          [
           "Denison"
          ],
          [
           "Indi"
          ]
         ],
         "hoverlabel": {
          "namelength": 0
         },
         "hovertemplate": "party_g=IND<br>margin=%{x}<br>amount=%{y}<br>grants=%{marker.size}<br>electorate=%{customdata[0]}",
         "legendgroup": "IND",
         "marker": {
          "color": "#FFA15A",
          "size": [
           6,
           6
          ],
          "sizemode": "area",
          "sizeref": 0.035,
          "symbol": "circle"
         },
         "mode": "markers",
         "name": "IND",
         "showlegend": true,
         "type": "scatter",
         "x": [
          35.55,
          9.66
         ],
         "xaxis": "x",
         "y": [
          740982,
          1020121
         ],
         "yaxis": "y"
        },
        {
         "customdata": [
          [
           "Melbourne"
          ]
         ],
         "hoverlabel": {
          "namelength": 0
         },
         "hovertemplate": "party_g=GRN<br>margin=%{x}<br>amount=%{y}<br>grants=%{marker.size}<br>electorate=%{customdata[0]}",
         "legendgroup": "GRN",
         "marker": {
          "color": "#19d3f3",
          "size": [
           4
          ],
          "sizemode": "area",
          "sizeref": 0.035,
          "symbol": "circle"
         },
         "mode": "markers",
         "name": "GRN",
         "showlegend": true,
         "type": "scatter",
         "x": [
          36.97
         ],
         "xaxis": "x",
         "y": [
          678145
         ],
         "yaxis": "y"
        }
       ],
       "layout": {
        "legend": {
         "itemsizing": "constant",
         "title": {
          "text": "party_g"
         },
         "tracegroupgap": 0
        },
        "margin": {
         "t": 60
        },
        "template": {
         "data": {
          "bar": [
           {
            "error_x": {
             "color": "#2a3f5f"
            },
            "error_y": {
             "color": "#2a3f5f"
            },
            "marker": {
             "line": {
              "color": "#E5ECF6",
              "width": 0.5
             }
            },
            "type": "bar"
           }
          ],
          "barpolar": [
           {
            "marker": {
             "line": {
              "color": "#E5ECF6",
              "width": 0.5
             }
            },
            "type": "barpolar"
           }
          ],
          "carpet": [
           {
            "aaxis": {
             "endlinecolor": "#2a3f5f",
             "gridcolor": "white",
             "linecolor": "white",
             "minorgridcolor": "white",
             "startlinecolor": "#2a3f5f"
            },
            "baxis": {
             "endlinecolor": "#2a3f5f",
             "gridcolor": "white",
             "linecolor": "white",
             "minorgridcolor": "white",
             "startlinecolor": "#2a3f5f"
            },
            "type": "carpet"
           }
          ],
          "choropleth": [
           {
            "colorbar": {
             "outlinewidth": 0,
             "ticks": ""
            },
            "type": "choropleth"
           }
          ],
          "contour": [
           {
            "colorbar": {
             "outlinewidth": 0,
             "ticks": ""
            },
            "colorscale": [
             [
              0,
              "#0d0887"
             ],
             [
              0.1111111111111111,
              "#46039f"
             ],
             [
              0.2222222222222222,
              "#7201a8"
             ],
             [
              0.3333333333333333,
              "#9c179e"
             ],
             [
              0.4444444444444444,
              "#bd3786"
             ],
             [
              0.5555555555555556,
              "#d8576b"
             ],
             [
              0.6666666666666666,
              "#ed7953"
             ],
             [
              0.7777777777777778,
              "#fb9f3a"
             ],
             [
              0.8888888888888888,
              "#fdca26"
             ],
             [
              1,
              "#f0f921"
             ]
            ],
            "type": "contour"
           }
          ],
          "contourcarpet": [
           {
            "colorbar": {
             "outlinewidth": 0,
             "ticks": ""
            },
            "type": "contourcarpet"
           }
          ],
          "heatmap": [
           {
            "colorbar": {
             "outlinewidth": 0,
             "ticks": ""
            },
            "colorscale": [
             [
              0,
              "#0d0887"
             ],
             [
              0.1111111111111111,
              "#46039f"
             ],
             [
              0.2222222222222222,
              "#7201a8"
             ],
             [
              0.3333333333333333,
              "#9c179e"
             ],
             [
              0.4444444444444444,
              "#bd3786"
             ],
             [
              0.5555555555555556,
              "#d8576b"
             ],
             [
              0.6666666666666666,
              "#ed7953"
             ],
             [
              0.7777777777777778,
              "#fb9f3a"
             ],
             [
              0.8888888888888888,
              "#fdca26"
             ],
             [
              1,
              "#f0f921"
             ]
            ],
            "type": "heatmap"
           }
          ],
          "heatmapgl": [
           {
            "colorbar": {
             "outlinewidth": 0,
             "ticks": ""
            },
            "colorscale": [
             [
              0,
              "#0d0887"
             ],
             [
              0.1111111111111111,
              "#46039f"
             ],
             [
              0.2222222222222222,
              "#7201a8"
             ],
             [
              0.3333333333333333,
              "#9c179e"
             ],
             [
              0.4444444444444444,
              "#bd3786"
             ],
             [
              0.5555555555555556,
              "#d8576b"
             ],
             [
              0.6666666666666666,
              "#ed7953"
             ],
             [
              0.7777777777777778,
              "#fb9f3a"
             ],
             [
              0.8888888888888888,
              "#fdca26"
             ],
             [
              1,
              "#f0f921"
             ]
            ],
            "type": "heatmapgl"
           }
          ],
          "histogram": [
           {
            "marker": {
             "colorbar": {
              "outlinewidth": 0,
              "ticks": ""
             }
            },
            "type": "histogram"
           }
          ],
          "histogram2d": [
           {
            "colorbar": {
             "outlinewidth": 0,
             "ticks": ""
            },
            "colorscale": [
             [
              0,
              "#0d0887"
             ],
             [
              0.1111111111111111,
              "#46039f"
             ],
             [
              0.2222222222222222,
              "#7201a8"
             ],
             [
              0.3333333333333333,
              "#9c179e"
             ],
             [
              0.4444444444444444,
              "#bd3786"
             ],
             [
              0.5555555555555556,
              "#d8576b"
             ],
             [
              0.6666666666666666,
              "#ed7953"
             ],
             [
              0.7777777777777778,
              "#fb9f3a"
             ],
             [
              0.8888888888888888,
              "#fdca26"
             ],
             [
              1,
              "#f0f921"
             ]
            ],
            "type": "histogram2d"
           }
          ],
          "histogram2dcontour": [
           {
            "colorbar": {
             "outlinewidth": 0,
             "ticks": ""
            },
            "colorscale": [
             [
              0,
              "#0d0887"
             ],
             [
              0.1111111111111111,
              "#46039f"
             ],
             [
              0.2222222222222222,
              "#7201a8"
             ],
             [
              0.3333333333333333,
              "#9c179e"
             ],
             [
              0.4444444444444444,
              "#bd3786"
             ],
             [
              0.5555555555555556,
              "#d8576b"
             ],
             [
              0.6666666666666666,
              "#ed7953"
             ],
             [
              0.7777777777777778,
              "#fb9f3a"
             ],
             [
              0.8888888888888888,
              "#fdca26"
             ],
             [
              1,
              "#f0f921"
             ]
            ],
            "type": "histogram2dcontour"
           }
          ],
          "mesh3d": [
           {
            "colorbar": {
             "outlinewidth": 0,
             "ticks": ""
            },
            "type": "mesh3d"
           }
          ],
          "parcoords": [
           {
            "line": {
             "colorbar": {
              "outlinewidth": 0,
              "ticks": ""
             }
            },
            "type": "parcoords"
           }
          ],
          "pie": [
           {
            "automargin": true,
            "type": "pie"
           }
          ],
          "scatter": [
           {
            "marker": {
             "colorbar": {
              "outlinewidth": 0,
              "ticks": ""
             }
            },
            "type": "scatter"
           }
          ],
          "scatter3d": [
           {
            "line": {
             "colorbar": {
              "outlinewidth": 0,
              "ticks": ""
             }
            },
            "marker": {
             "colorbar": {
              "outlinewidth": 0,
              "ticks": ""
             }
            },
            "type": "scatter3d"
           }
          ],
          "scattercarpet": [
           {
            "marker": {
             "colorbar": {
              "outlinewidth": 0,
              "ticks": ""
             }
            },
            "type": "scattercarpet"
           }
          ],
          "scattergeo": [
           {
            "marker": {
             "colorbar": {
              "outlinewidth": 0,
              "ticks": ""
             }
            },
            "type": "scattergeo"
           }
          ],
          "scattergl": [
           {
            "marker": {
             "colorbar": {
              "outlinewidth": 0,
              "ticks": ""
             }
            },
            "type": "scattergl"
           }
          ],
          "scattermapbox": [
           {
            "marker": {
             "colorbar": {
              "outlinewidth": 0,
              "ticks": ""
             }
            },
            "type": "scattermapbox"
           }
          ],
          "scatterpolar": [
           {
            "marker": {
             "colorbar": {
              "outlinewidth": 0,
              "ticks": ""
             }
            },
            "type": "scatterpolar"
           }
          ],
          "scatterpolargl": [
           {
            "marker": {
             "colorbar": {
              "outlinewidth": 0,
              "ticks": ""
             }
            },
            "type": "scatterpolargl"
           }
          ],
          "scatterternary": [
           {
            "marker": {
             "colorbar": {
              "outlinewidth": 0,
              "ticks": ""
             }
            },
            "type": "scatterternary"
           }
          ],
          "surface": [
           {
            "colorbar": {
             "outlinewidth": 0,
             "ticks": ""
            },
            "colorscale": [
             [
              0,
              "#0d0887"
             ],
             [
              0.1111111111111111,
              "#46039f"
             ],
             [
              0.2222222222222222,
              "#7201a8"
             ],
             [
              0.3333333333333333,
              "#9c179e"
             ],
             [
              0.4444444444444444,
              "#bd3786"
             ],
             [
              0.5555555555555556,
              "#d8576b"
             ],
             [
              0.6666666666666666,
              "#ed7953"
             ],
             [
              0.7777777777777778,
              "#fb9f3a"
             ],
             [
              0.8888888888888888,
              "#fdca26"
             ],
             [
              1,
              "#f0f921"
             ]
            ],
            "type": "surface"
           }
          ],
          "table": [
           {
            "cells": {
             "fill": {
              "color": "#EBF0F8"
             },
             "line": {
              "color": "white"
             }
            },
            "header": {
             "fill": {
              "color": "#C8D4E3"
             },
             "line": {
              "color": "white"
             }
            },
            "type": "table"
           }
          ]
         },
         "layout": {
          "annotationdefaults": {
           "arrowcolor": "#2a3f5f",
           "arrowhead": 0,
           "arrowwidth": 1
          },
          "coloraxis": {
           "colorbar": {
            "outlinewidth": 0,
            "ticks": ""
           }
          },
          "colorscale": {
           "diverging": [
            [
             0,
             "#8e0152"
            ],
            [
             0.1,
             "#c51b7d"
            ],
            [
             0.2,
             "#de77ae"
            ],
            [
             0.3,
             "#f1b6da"
            ],
            [
             0.4,
             "#fde0ef"
            ],
            [
             0.5,
             "#f7f7f7"
            ],
            [
             0.6,
             "#e6f5d0"
            ],
            [
             0.7,
             "#b8e186"
            ],
            [
             0.8,
             "#7fbc41"
            ],
            [
             0.9,
             "#4d9221"
            ],
            [
             1,
             "#276419"
            ]
           ],
           "sequential": [
            [
             0,
             "#0d0887"
            ],
            [
             0.1111111111111111,
             "#46039f"
            ],
            [
             0.2222222222222222,
             "#7201a8"
            ],
            [
             0.3333333333333333,
             "#9c179e"
            ],
            [
             0.4444444444444444,
             "#bd3786"
            ],
            [
             0.5555555555555556,
             "#d8576b"
            ],
            [
             0.6666666666666666,
             "#ed7953"
            ],
            [
             0.7777777777777778,
             "#fb9f3a"
            ],
            [
             0.8888888888888888,
             "#fdca26"
            ],
            [
             1,
             "#f0f921"
            ]
           ],
           "sequentialminus": [
            [
             0,
             "#0d0887"
            ],
            [
             0.1111111111111111,
             "#46039f"
            ],
            [
             0.2222222222222222,
             "#7201a8"
            ],
            [
             0.3333333333333333,
             "#9c179e"
            ],
            [
             0.4444444444444444,
             "#bd3786"
            ],
            [
             0.5555555555555556,
             "#d8576b"
            ],
            [
             0.6666666666666666,
             "#ed7953"
            ],
            [
             0.7777777777777778,
             "#fb9f3a"
            ],
            [
             0.8888888888888888,
             "#fdca26"
            ],
            [
             1,
             "#f0f921"
            ]
           ]
          },
          "colorway": [
           "#636efa",
           "#EF553B",
           "#00cc96",
           "#ab63fa",
           "#FFA15A",
           "#19d3f3",
           "#FF6692",
           "#B6E880",
           "#FF97FF",
           "#FECB52"
          ],
          "font": {
           "color": "#2a3f5f"
          },
          "geo": {
           "bgcolor": "white",
           "lakecolor": "white",
           "landcolor": "#E5ECF6",
           "showlakes": true,
           "showland": true,
           "subunitcolor": "white"
          },
          "hoverlabel": {
           "align": "left"
          },
          "hovermode": "closest",
          "mapbox": {
           "style": "light"
          },
          "paper_bgcolor": "white",
          "plot_bgcolor": "#E5ECF6",
          "polar": {
           "angularaxis": {
            "gridcolor": "white",
            "linecolor": "white",
            "ticks": ""
           },
           "bgcolor": "#E5ECF6",
           "radialaxis": {
            "gridcolor": "white",
            "linecolor": "white",
            "ticks": ""
           }
          },
          "scene": {
           "xaxis": {
            "backgroundcolor": "#E5ECF6",
            "gridcolor": "white",
            "gridwidth": 2,
            "linecolor": "white",
            "showbackground": true,
            "ticks": "",
            "zerolinecolor": "white"
           },
           "yaxis": {
            "backgroundcolor": "#E5ECF6",
            "gridcolor": "white",
            "gridwidth": 2,
            "linecolor": "white",
            "showbackground": true,
            "ticks": "",
            "zerolinecolor": "white"
           },
           "zaxis": {
            "backgroundcolor": "#E5ECF6",
            "gridcolor": "white",
            "gridwidth": 2,
            "linecolor": "white",
            "showbackground": true,
            "ticks": "",
            "zerolinecolor": "white"
           }
          },
          "shapedefaults": {
           "line": {
            "color": "#2a3f5f"
           }
          },
          "ternary": {
           "aaxis": {
            "gridcolor": "white",
            "linecolor": "white",
            "ticks": ""
           },
           "baxis": {
            "gridcolor": "white",
            "linecolor": "white",
            "ticks": ""
           },
           "bgcolor": "#E5ECF6",
           "caxis": {
            "gridcolor": "white",
            "linecolor": "white",
            "ticks": ""
           }
          },
          "title": {
           "x": 0.05
          },
          "xaxis": {
           "automargin": true,
           "gridcolor": "white",
           "linecolor": "white",
           "ticks": "",
           "title": {
            "standoff": 15
           },
           "zerolinecolor": "white",
           "zerolinewidth": 2
          },
          "yaxis": {
           "automargin": true,
           "gridcolor": "white",
           "linecolor": "white",
           "ticks": "",
           "title": {
            "standoff": 15
           },
           "zerolinecolor": "white",
           "zerolinewidth": 2
          }
         }
        },
        "xaxis": {
         "anchor": "y",
         "domain": [
          0,
          1
         ],
         "title": {
          "text": "margin"
         }
        },
        "yaxis": {
         "anchor": "x",
         "domain": [
          0,
          1
         ],
         "title": {
          "text": "amount"
         }
        }
       }
      },
      "text/html": [
       "<div>\n",
       "        \n",
       "        \n",
       "            <div id=\"d0d8df18-da3e-47b2-80b9-8ad3cf0daf01\" class=\"plotly-graph-div\" style=\"height:525px; width:100%;\"></div>\n",
       "            <script type=\"text/javascript\">\n",
       "                require([\"plotly\"], function(Plotly) {\n",
       "                    window.PLOTLYENV=window.PLOTLYENV || {};\n",
       "                    \n",
       "                if (document.getElementById(\"d0d8df18-da3e-47b2-80b9-8ad3cf0daf01\")) {\n",
       "                    Plotly.newPlot(\n",
       "                        'd0d8df18-da3e-47b2-80b9-8ad3cf0daf01',\n",
       "                        [{\"customdata\": [[\"Canberra\"], [\"Fenner\"], [\"Barton\"], [\"Blaxland\"], [\"Chifley\"], [\"Cunningham\"], [\"Dobell\"], [\"Eden-Monaro\"], [\"Fowler\"], [\"Grayndler\"], [\"Greenway\"], [\"Hunter\"], [\"Kingsford Smith\"], [\"Lindsay\"], [\"Macarthur\"], [\"Macquarie\"], [\"Newcastle\"], [\"Parramatta\"], [\"Richmond\"], [\"Shortland\"], [\"Sydney\"], [\"Whitlam\"], [\"Werriwa\"], [\"Griffith\"], [\"Herbert\"], [\"Lilley\"], [\"Moreton\"], [\"Oxley\"], [\"Rankin\"], [\"Adelaide\"], [\"Hindmarsh\"], [\"Kingston\"], [\"Makin\"], [\"Port Adelaide\"], [\"Wakefield\"], [\"Bass\"], [\"Braddon\"], [\"Franklin\"], [\"Lyons\"], [\"Ballarat\"], [\"Batman\"], [\"Bendigo\"], [\"Bruce\"], [\"Calwell\"], [\"Corio\"], [\"Gellibrand\"], [\"Holt\"], [\"Hotham\"], [\"Isaacs\"], [\"Jagajaga\"], [\"Lalor\"], [\"Maribyrnong\"], [\"McEwen\"], [\"Melbourne Ports\"], [\"Scullin\"], [\"Wills\"], [\"Brand\"], [\"Cowan\"], [\"Fremantle\"], [\"Perth\"], [\"Paterson\"], [\"Watson\"], [\"Longman\"], [\"Blair\"], [\"Lingiari\"], [\"Solomon\"], [\"Gorton\"], [\"McMahon\"], [\"Burt\"]], \"hoverlabel\": {\"namelength\": 0}, \"hovertemplate\": \"party_g=ALP<br>margin=%{x}<br>amount=%{y}<br>grants=%{marker.size}<br>electorate=%{customdata[0]}\", \"legendgroup\": \"ALP\", \"marker\": {\"color\": \"#636efa\", \"size\": [7, 4, 1, 2, 1, 5, 1, 3, 2, 1, 1, 3, 3, 8, 0, 6, 4, 2, 5, 1, 1, 6, 1, 3, 1, 3, 3, 2, 1, 10, 6, 1, 3, 6, 5, 3, 4, 4, 6, 7, 2, 5, 2, 0, 4, 6, 4, 3, 10, 7, 2, 4, 5, 4, 2, 5, 3, 2, 3, 4, 5, 0, 1, 5, 4, 4, 1, 3, 0], \"sizemode\": \"area\", \"sizeref\": 0.035, \"symbol\": \"circle\"}, \"mode\": \"markers\", \"name\": \"ALP\", \"showlegend\": true, \"type\": \"scatter\", \"x\": [16.92, 27.79, 16.6, 38.97, 38.37, 26.65, 9.63, 5.86, 34.97, 31.64, 12.62, 24.92, 17.14, 2.23, 16.67, 4.39, 27.67, 15.33, 7.91, 19.87, 30.63, 27.45, 16.39, 3.2, 0.04, 10.64, 8.05, 18.16, 22.59, 9.31, 1.16, 34.09, 19.31, 29.73, 21.95, 12.18, 4.4, 21.44, 4.61, 14.63, 2.06, 7.48, 8.16, 35.74, 19.99, 36.47, 28.33, 14.96, 11.47, 9.35, 26.88, 24.61, 15.69, 2.76, 34.55, 9.76, 22.87, 1.36, 15.04, 6.66, 21.48, 35.15, 1.58, 17.76, 16.84, 11.99, 38.9, 24.23, 14.22], \"xaxis\": \"x\", \"y\": [584464, 741981, 5245, 520620, 180000, 431199, 115634, 589280, 244098, 500000, 371000, 375510, 350265, 949000, 0, 720900, 554326, 154135, 659708, 104624, 105500, 554102, 50000, 869113, 369991, 549982, 271110, 248462, 16400, 1463803, 708400, 30000, 730550, 504405, 1309645, 210900, 622680, 578190, 930000, 969976, 250000, 776600, 290940, 0, 659000, 891401, 598960, 732496, 342057, 299822, 72274, 493400, 447679, 959508, 340000, 549466, 344950, 550000, 420500, 433602, 723214, 0, 500000, 1048000, 675882, 1533056, 170149, 223575, 0], \"yaxis\": \"y\"}, {\"customdata\": [[\"Banks\"], [\"Bennelong\"], [\"Berowra\"], [\"Bradfield\"], [\"Calare\"], [\"Cook\"], [\"Cowper\"], [\"Farrer\"], [\"Gilmore\"], [\"Hughes\"], [\"Hume\"], [\"Lyne\"], [\"Mackellar\"], [\"Mitchell\"], [\"New England\"], [\"North Sydney\"], [\"Page\"], [\"Parkes\"], [\"Reid\"], [\"Robertson\"], [\"Warringah\"], [\"Wentworth\"], [\"Bowman\"], [\"Brisbane\"], [\"Capricornia\"], [\"Dawson\"], [\"Fadden\"], [\"Fairfax\"], [\"Fisher\"], [\"Forde\"], [\"Groom\"], [\"Hinkler\"], [\"Leichhardt\"], [\"Maranoa\"], [\"McPherson\"], [\"Moncrieff\"], [\"Petrie\"], [\"Ryan\"], [\"Wide Bay\"], [\"Barker\"], [\"Boothby\"], [\"Grey\"], [\"Sturt\"], [\"Aston\"], [\"Casey\"], [\"Chisholm\"], [\"Corangamite\"], [\"Deakin\"], [\"Dunkley\"], [\"Flinders\"], [\"Gippsland\"], [\"Goldstein\"], [\"Higgins\"], [\"Kooyong\"], [\"La Trobe\"], [\"Mallee\"], [\"McMillan\"], [\"Menzies\"], [\"Murray\"], [\"Wannon\"], [\"Canning\"], [\"Curtin\"], [\"Forrest\"], [\"Moore\"], [\"O'Connor\"], [\"Pearce\"], [\"Stirling\"], [\"Swan\"], [\"Tangney\"], [\"Riverina\"], [\"Dickson\"], [\"Hasluck\"], [\"Bonner\"], [\"Flynn\"], [\"Durack\"], [\"Wright\"]], \"hoverlabel\": {\"namelength\": 0}, \"hovertemplate\": \"party_g=LP<br>margin=%{x}<br>amount=%{y}<br>grants=%{marker.size}<br>electorate=%{customdata[0]}\", \"legendgroup\": \"LP\", \"marker\": {\"color\": \"#EF553B\", \"size\": [2, 1, 2, 1, 8, 4, 4, 5, 8, 3, 5, 1, 4, 0, 6, 1, 7, 3, 3, 3, 4, 3, 4, 3, 3, 8, 0, 6, 5, 4, 2, 4, 4, 3, 3, 4, 2, 2, 7, 8, 3, 2, 4, 3, 5, 2, 5, 4, 5, 8, 3, 3, 3, 6, 4, 8, 13, 5, 5, 5, 6, 5, 9, 5, 7, 2, 6, 4, 8, 5, 3, 10, 3, 5, 14, 6], \"sizemode\": \"area\", \"sizeref\": 0.035, \"symbol\": \"circle\"}, \"mode\": \"markers\", \"name\": \"LP\", \"showlegend\": true, \"type\": \"scatter\", \"x\": [2.88, 19.43, 32.89, 42.07, 23.61, 30.79, 9.11, 41.05, 1.46, 18.65, 20.36, 23.26, 31.47, 35.63, 17.04, 27.22, 4.61, 30.2, 9.37, 2.29, 23.11, 35.5, 14.14, 11.85, 1.26, 6.68, 22.09, 21.78, 18.12, 1.27, 30.61, 16.85, 7.91, 31.72, 23.27, 29.88, 3.3, 18.18, 16.29, 9.48, 7.0, 3.9, 11.79, 17.17, 12.12, 2.48, 6.26, 11.37, 2.86, 15.55, 36.87, 25.35, 15.98, 26.68, 2.92, 42.65, 12.05, 21.12, 10.27, 17.92, 13.59, 41.39, 25.12, 22.03, 30.08, 7.25, 12.24, 7.18, 22.13, 32.87, 3.2, 4.11, 6.78, 2.08, 22.11, 19.23], \"xaxis\": \"x\", \"y\": [860000, 50000, 684000, 2400, 951596, 320503, 361951, 407475, 1004746, 261599, 645437, 500000, 523372, 0, 363695, 75000, 1360796, 431412, 926142, 785000, 745200, 120000, 811499, 1150395, 148996, 2004632, 0, 611088, 803382, 1009618, 255800, 454286, 1019500, 216069, 354297, 431384, 694797, 887400, 887090, 987661, 1225143, 62310, 1354011, 940000, 839000, 323648, 1218000, 1143877, 887333, 806058, 1108590, 716525, 114850, 695020, 831095, 1384393, 1213112, 323750, 1114016, 751611, 945158, 542140, 471918, 873859, 955942, 426865, 666585, 782530, 1275859, 308990, 426712, 1135177, 300625, 927924, 816642, 866533], \"yaxis\": \"y\"}, {\"customdata\": [[\"Kennedy\"]], \"hoverlabel\": {\"namelength\": 0}, \"hovertemplate\": \"party_g=KAP<br>margin=%{x}<br>amount=%{y}<br>grants=%{marker.size}<br>electorate=%{customdata[0]}\", \"legendgroup\": \"KAP\", \"marker\": {\"color\": \"#00cc96\", \"size\": [2], \"sizemode\": \"area\", \"sizeref\": 0.035, \"symbol\": \"circle\"}, \"mode\": \"markers\", \"name\": \"KAP\", \"showlegend\": true, \"type\": \"scatter\", \"x\": [22.24], \"xaxis\": \"x\", \"y\": [187900], \"yaxis\": \"y\"}, {\"customdata\": [[\"Mayo\"]], \"hoverlabel\": {\"namelength\": 0}, \"hovertemplate\": \"party_g=XEN<br>margin=%{x}<br>amount=%{y}<br>grants=%{marker.size}<br>electorate=%{customdata[0]}\", \"legendgroup\": \"XEN\", \"marker\": {\"color\": \"#ab63fa\", \"size\": [5], \"sizemode\": \"area\", \"sizeref\": 0.035, \"symbol\": \"circle\"}, \"mode\": \"markers\", \"name\": \"XEN\", \"showlegend\": true, \"type\": \"scatter\", \"x\": [9.94], \"xaxis\": \"x\", \"y\": [1154072], \"yaxis\": \"y\"}, {\"customdata\": [[\"Denison\"], [\"Indi\"]], \"hoverlabel\": {\"namelength\": 0}, \"hovertemplate\": \"party_g=IND<br>margin=%{x}<br>amount=%{y}<br>grants=%{marker.size}<br>electorate=%{customdata[0]}\", \"legendgroup\": \"IND\", \"marker\": {\"color\": \"#FFA15A\", \"size\": [6, 6], \"sizemode\": \"area\", \"sizeref\": 0.035, \"symbol\": \"circle\"}, \"mode\": \"markers\", \"name\": \"IND\", \"showlegend\": true, \"type\": \"scatter\", \"x\": [35.55, 9.66], \"xaxis\": \"x\", \"y\": [740982, 1020121], \"yaxis\": \"y\"}, {\"customdata\": [[\"Melbourne\"]], \"hoverlabel\": {\"namelength\": 0}, \"hovertemplate\": \"party_g=GRN<br>margin=%{x}<br>amount=%{y}<br>grants=%{marker.size}<br>electorate=%{customdata[0]}\", \"legendgroup\": \"GRN\", \"marker\": {\"color\": \"#19d3f3\", \"size\": [4], \"sizemode\": \"area\", \"sizeref\": 0.035, \"symbol\": \"circle\"}, \"mode\": \"markers\", \"name\": \"GRN\", \"showlegend\": true, \"type\": \"scatter\", \"x\": [36.97], \"xaxis\": \"x\", \"y\": [678145], \"yaxis\": \"y\"}],\n",
       "                        {\"legend\": {\"itemsizing\": \"constant\", \"title\": {\"text\": \"party_g\"}, \"tracegroupgap\": 0}, \"margin\": {\"t\": 60}, \"template\": {\"data\": {\"bar\": [{\"error_x\": {\"color\": \"#2a3f5f\"}, \"error_y\": {\"color\": \"#2a3f5f\"}, \"marker\": {\"line\": {\"color\": \"#E5ECF6\", \"width\": 0.5}}, \"type\": \"bar\"}], \"barpolar\": [{\"marker\": {\"line\": {\"color\": \"#E5ECF6\", \"width\": 0.5}}, \"type\": \"barpolar\"}], \"carpet\": [{\"aaxis\": {\"endlinecolor\": \"#2a3f5f\", \"gridcolor\": \"white\", \"linecolor\": \"white\", \"minorgridcolor\": \"white\", \"startlinecolor\": \"#2a3f5f\"}, \"baxis\": {\"endlinecolor\": \"#2a3f5f\", \"gridcolor\": \"white\", \"linecolor\": \"white\", \"minorgridcolor\": \"white\", \"startlinecolor\": \"#2a3f5f\"}, \"type\": \"carpet\"}], \"choropleth\": [{\"colorbar\": {\"outlinewidth\": 0, \"ticks\": \"\"}, \"type\": \"choropleth\"}], \"contour\": [{\"colorbar\": {\"outlinewidth\": 0, \"ticks\": \"\"}, \"colorscale\": [[0.0, \"#0d0887\"], [0.1111111111111111, \"#46039f\"], [0.2222222222222222, \"#7201a8\"], [0.3333333333333333, \"#9c179e\"], [0.4444444444444444, \"#bd3786\"], [0.5555555555555556, \"#d8576b\"], [0.6666666666666666, \"#ed7953\"], [0.7777777777777778, \"#fb9f3a\"], [0.8888888888888888, \"#fdca26\"], [1.0, \"#f0f921\"]], \"type\": \"contour\"}], \"contourcarpet\": [{\"colorbar\": {\"outlinewidth\": 0, \"ticks\": \"\"}, \"type\": \"contourcarpet\"}], \"heatmap\": [{\"colorbar\": {\"outlinewidth\": 0, \"ticks\": \"\"}, \"colorscale\": [[0.0, \"#0d0887\"], [0.1111111111111111, \"#46039f\"], [0.2222222222222222, \"#7201a8\"], [0.3333333333333333, \"#9c179e\"], [0.4444444444444444, \"#bd3786\"], [0.5555555555555556, \"#d8576b\"], [0.6666666666666666, \"#ed7953\"], [0.7777777777777778, \"#fb9f3a\"], [0.8888888888888888, \"#fdca26\"], [1.0, \"#f0f921\"]], \"type\": \"heatmap\"}], \"heatmapgl\": [{\"colorbar\": {\"outlinewidth\": 0, \"ticks\": \"\"}, \"colorscale\": [[0.0, \"#0d0887\"], [0.1111111111111111, \"#46039f\"], [0.2222222222222222, \"#7201a8\"], [0.3333333333333333, \"#9c179e\"], [0.4444444444444444, \"#bd3786\"], [0.5555555555555556, \"#d8576b\"], [0.6666666666666666, \"#ed7953\"], [0.7777777777777778, \"#fb9f3a\"], [0.8888888888888888, \"#fdca26\"], [1.0, \"#f0f921\"]], \"type\": \"heatmapgl\"}], \"histogram\": [{\"marker\": {\"colorbar\": {\"outlinewidth\": 0, \"ticks\": \"\"}}, \"type\": \"histogram\"}], \"histogram2d\": [{\"colorbar\": {\"outlinewidth\": 0, \"ticks\": \"\"}, \"colorscale\": [[0.0, \"#0d0887\"], [0.1111111111111111, \"#46039f\"], [0.2222222222222222, \"#7201a8\"], [0.3333333333333333, \"#9c179e\"], [0.4444444444444444, \"#bd3786\"], [0.5555555555555556, \"#d8576b\"], [0.6666666666666666, \"#ed7953\"], [0.7777777777777778, \"#fb9f3a\"], [0.8888888888888888, \"#fdca26\"], [1.0, \"#f0f921\"]], \"type\": \"histogram2d\"}], \"histogram2dcontour\": [{\"colorbar\": {\"outlinewidth\": 0, \"ticks\": \"\"}, \"colorscale\": [[0.0, \"#0d0887\"], [0.1111111111111111, \"#46039f\"], [0.2222222222222222, \"#7201a8\"], [0.3333333333333333, \"#9c179e\"], [0.4444444444444444, \"#bd3786\"], [0.5555555555555556, \"#d8576b\"], [0.6666666666666666, \"#ed7953\"], [0.7777777777777778, \"#fb9f3a\"], [0.8888888888888888, \"#fdca26\"], [1.0, \"#f0f921\"]], \"type\": \"histogram2dcontour\"}], \"mesh3d\": [{\"colorbar\": {\"outlinewidth\": 0, \"ticks\": \"\"}, \"type\": \"mesh3d\"}], \"parcoords\": [{\"line\": {\"colorbar\": {\"outlinewidth\": 0, \"ticks\": \"\"}}, \"type\": \"parcoords\"}], \"pie\": [{\"automargin\": true, \"type\": \"pie\"}], \"scatter\": [{\"marker\": {\"colorbar\": {\"outlinewidth\": 0, \"ticks\": \"\"}}, \"type\": \"scatter\"}], \"scatter3d\": [{\"line\": {\"colorbar\": {\"outlinewidth\": 0, \"ticks\": \"\"}}, \"marker\": {\"colorbar\": {\"outlinewidth\": 0, \"ticks\": \"\"}}, \"type\": \"scatter3d\"}], \"scattercarpet\": [{\"marker\": {\"colorbar\": {\"outlinewidth\": 0, \"ticks\": \"\"}}, \"type\": \"scattercarpet\"}], \"scattergeo\": [{\"marker\": {\"colorbar\": {\"outlinewidth\": 0, \"ticks\": \"\"}}, \"type\": \"scattergeo\"}], \"scattergl\": [{\"marker\": {\"colorbar\": {\"outlinewidth\": 0, \"ticks\": \"\"}}, \"type\": \"scattergl\"}], \"scattermapbox\": [{\"marker\": {\"colorbar\": {\"outlinewidth\": 0, \"ticks\": \"\"}}, \"type\": \"scattermapbox\"}], \"scatterpolar\": [{\"marker\": {\"colorbar\": {\"outlinewidth\": 0, \"ticks\": \"\"}}, \"type\": \"scatterpolar\"}], \"scatterpolargl\": [{\"marker\": {\"colorbar\": {\"outlinewidth\": 0, \"ticks\": \"\"}}, \"type\": \"scatterpolargl\"}], \"scatterternary\": [{\"marker\": {\"colorbar\": {\"outlinewidth\": 0, \"ticks\": \"\"}}, \"type\": \"scatterternary\"}], \"surface\": [{\"colorbar\": {\"outlinewidth\": 0, \"ticks\": \"\"}, \"colorscale\": [[0.0, \"#0d0887\"], [0.1111111111111111, \"#46039f\"], [0.2222222222222222, \"#7201a8\"], [0.3333333333333333, \"#9c179e\"], [0.4444444444444444, \"#bd3786\"], [0.5555555555555556, \"#d8576b\"], [0.6666666666666666, \"#ed7953\"], [0.7777777777777778, \"#fb9f3a\"], [0.8888888888888888, \"#fdca26\"], [1.0, \"#f0f921\"]], \"type\": \"surface\"}], \"table\": [{\"cells\": {\"fill\": {\"color\": \"#EBF0F8\"}, \"line\": {\"color\": \"white\"}}, \"header\": {\"fill\": {\"color\": \"#C8D4E3\"}, \"line\": {\"color\": \"white\"}}, \"type\": \"table\"}]}, \"layout\": {\"annotationdefaults\": {\"arrowcolor\": \"#2a3f5f\", \"arrowhead\": 0, \"arrowwidth\": 1}, \"coloraxis\": {\"colorbar\": {\"outlinewidth\": 0, \"ticks\": \"\"}}, \"colorscale\": {\"diverging\": [[0, \"#8e0152\"], [0.1, \"#c51b7d\"], [0.2, \"#de77ae\"], [0.3, \"#f1b6da\"], [0.4, \"#fde0ef\"], [0.5, \"#f7f7f7\"], [0.6, \"#e6f5d0\"], [0.7, \"#b8e186\"], [0.8, \"#7fbc41\"], [0.9, \"#4d9221\"], [1, \"#276419\"]], \"sequential\": [[0.0, \"#0d0887\"], [0.1111111111111111, \"#46039f\"], [0.2222222222222222, \"#7201a8\"], [0.3333333333333333, \"#9c179e\"], [0.4444444444444444, \"#bd3786\"], [0.5555555555555556, \"#d8576b\"], [0.6666666666666666, \"#ed7953\"], [0.7777777777777778, \"#fb9f3a\"], [0.8888888888888888, \"#fdca26\"], [1.0, \"#f0f921\"]], \"sequentialminus\": [[0.0, \"#0d0887\"], [0.1111111111111111, \"#46039f\"], [0.2222222222222222, \"#7201a8\"], [0.3333333333333333, \"#9c179e\"], [0.4444444444444444, \"#bd3786\"], [0.5555555555555556, \"#d8576b\"], [0.6666666666666666, \"#ed7953\"], [0.7777777777777778, \"#fb9f3a\"], [0.8888888888888888, \"#fdca26\"], [1.0, \"#f0f921\"]]}, \"colorway\": [\"#636efa\", \"#EF553B\", \"#00cc96\", \"#ab63fa\", \"#FFA15A\", \"#19d3f3\", \"#FF6692\", \"#B6E880\", \"#FF97FF\", \"#FECB52\"], \"font\": {\"color\": \"#2a3f5f\"}, \"geo\": {\"bgcolor\": \"white\", \"lakecolor\": \"white\", \"landcolor\": \"#E5ECF6\", \"showlakes\": true, \"showland\": true, \"subunitcolor\": \"white\"}, \"hoverlabel\": {\"align\": \"left\"}, \"hovermode\": \"closest\", \"mapbox\": {\"style\": \"light\"}, \"paper_bgcolor\": \"white\", \"plot_bgcolor\": \"#E5ECF6\", \"polar\": {\"angularaxis\": {\"gridcolor\": \"white\", \"linecolor\": \"white\", \"ticks\": \"\"}, \"bgcolor\": \"#E5ECF6\", \"radialaxis\": {\"gridcolor\": \"white\", \"linecolor\": \"white\", \"ticks\": \"\"}}, \"scene\": {\"xaxis\": {\"backgroundcolor\": \"#E5ECF6\", \"gridcolor\": \"white\", \"gridwidth\": 2, \"linecolor\": \"white\", \"showbackground\": true, \"ticks\": \"\", \"zerolinecolor\": \"white\"}, \"yaxis\": {\"backgroundcolor\": \"#E5ECF6\", \"gridcolor\": \"white\", \"gridwidth\": 2, \"linecolor\": \"white\", \"showbackground\": true, \"ticks\": \"\", \"zerolinecolor\": \"white\"}, \"zaxis\": {\"backgroundcolor\": \"#E5ECF6\", \"gridcolor\": \"white\", \"gridwidth\": 2, \"linecolor\": \"white\", \"showbackground\": true, \"ticks\": \"\", \"zerolinecolor\": \"white\"}}, \"shapedefaults\": {\"line\": {\"color\": \"#2a3f5f\"}}, \"ternary\": {\"aaxis\": {\"gridcolor\": \"white\", \"linecolor\": \"white\", \"ticks\": \"\"}, \"baxis\": {\"gridcolor\": \"white\", \"linecolor\": \"white\", \"ticks\": \"\"}, \"bgcolor\": \"#E5ECF6\", \"caxis\": {\"gridcolor\": \"white\", \"linecolor\": \"white\", \"ticks\": \"\"}}, \"title\": {\"x\": 0.05}, \"xaxis\": {\"automargin\": true, \"gridcolor\": \"white\", \"linecolor\": \"white\", \"ticks\": \"\", \"title\": {\"standoff\": 15}, \"zerolinecolor\": \"white\", \"zerolinewidth\": 2}, \"yaxis\": {\"automargin\": true, \"gridcolor\": \"white\", \"linecolor\": \"white\", \"ticks\": \"\", \"title\": {\"standoff\": 15}, \"zerolinecolor\": \"white\", \"zerolinewidth\": 2}}}, \"xaxis\": {\"anchor\": \"y\", \"domain\": [0.0, 1.0], \"title\": {\"text\": \"margin\"}}, \"yaxis\": {\"anchor\": \"x\", \"domain\": [0.0, 1.0], \"title\": {\"text\": \"amount\"}}},\n",
       "                        {\"responsive\": true}\n",
       "                    ).then(function(){\n",
       "                            \n",
       "var gd = document.getElementById('d0d8df18-da3e-47b2-80b9-8ad3cf0daf01');\n",
       "var x = new MutationObserver(function (mutations, observer) {{\n",
       "        var display = window.getComputedStyle(gd).display;\n",
       "        if (!display || display === 'none') {{\n",
       "            console.log([gd, 'removed!']);\n",
       "            Plotly.purge(gd);\n",
       "            observer.disconnect();\n",
       "        }}\n",
       "}});\n",
       "\n",
       "// Listen for the removal of the full notebook cells\n",
       "var notebookContainer = gd.closest('#notebook-container');\n",
       "if (notebookContainer) {{\n",
       "    x.observe(notebookContainer, {childList: true});\n",
       "}}\n",
       "\n",
       "// Listen for the clearing of the current output cell\n",
       "var outputEl = gd.closest('.output');\n",
       "if (outputEl) {{\n",
       "    x.observe(outputEl, {childList: true});\n",
       "}}\n",
       "\n",
       "                        })\n",
       "                };\n",
       "                });\n",
       "            </script>\n",
       "        </div>"
      ]
     },
     "metadata": {},
     "output_type": "display_data"
    }
   ],
   "source": [
    "\n",
    "fig = px.scatter(grants_seat, x=\"margin\", y=\"amount\", color=\"party_g\", size=\"grants\", hover_data=['electorate'])\n",
    "fig.show()"
   ]
  }
 ],
 "metadata": {
  "kernelspec": {
   "display_name": "Python 3",
   "language": "python",
   "name": "python3"
  },
  "language_info": {
   "codemirror_mode": {
    "name": "ipython",
    "version": 3
   },
   "file_extension": ".py",
   "mimetype": "text/x-python",
   "name": "python",
   "nbconvert_exporter": "python",
   "pygments_lexer": "ipython3",
   "version": "3.7.4"
  }
 },
 "nbformat": 4,
 "nbformat_minor": 4
}
